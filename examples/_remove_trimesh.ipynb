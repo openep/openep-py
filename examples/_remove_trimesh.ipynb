{
 "cells": [
  {
   "cell_type": "code",
   "execution_count": 3,
   "metadata": {},
   "outputs": [],
   "source": [
    "%load_ext autoreload\n",
    "%autoreload 2}"
   ]
  },
  {
   "cell_type": "code",
   "execution_count": 4,
   "metadata": {},
   "outputs": [],
   "source": [
    "import numpy as np\n",
    "\n",
    "import pyvista\n",
    "import trimesh\n",
    "\n",
    "import openep\n",
    "from openep import io as openep_io\n",
    "from openep import case as openep_case\n",
    "from openep import mesh_routines as openep_mesh\n",
    "from openep import case_routines as case_routines\n",
    "from openep import draw_routines as draw\n",
    "\n"
   ]
  },
  {
   "cell_type": "code",
   "execution_count": 5,
   "metadata": {},
   "outputs": [],
   "source": [
    "pyvista.set_jupyter_backend('ipygany')"
   ]
  },
  {
   "cell_type": "markdown",
   "metadata": {},
   "source": [
    "# 1. Make openep.case.Case.create_mesh use PyVista rather than TriMesh - Done!"
   ]
  },
  {
   "cell_type": "code",
   "execution_count": 4,
   "metadata": {},
   "outputs": [],
   "source": [
    "filename = \"/Users/paul/github/openep-py/examples/data/new_dataset_2.mat\""
   ]
  },
  {
   "cell_type": "code",
   "execution_count": 5,
   "metadata": {},
   "outputs": [],
   "source": [
    "case = openep.io.load_case(filename)"
   ]
  },
  {
   "cell_type": "code",
   "execution_count": 15,
   "metadata": {},
   "outputs": [],
   "source": [
    "def create_mesh(\n",
    "    case, vertex_norms: bool = True, recenter: bool = True, back_faces: bool = True\n",
    "):\n",
    "    \"\"\"\n",
    "    Create a new mesh object from the stored nodes and indices\n",
    "\n",
    "    Args:\n",
    "        vertex_norms: if True, calculate vertex normals in the mesh\n",
    "        recenter: if True, recenter the mesh on the origin\n",
    "        back_faces: if True, calculate back face triangles\n",
    "    \"\"\"\n",
    "    if back_faces:\n",
    "        inds_inverted = case.indices[:, [0, 2, 1]]\n",
    "        inds = np.vstack(\n",
    "            [case.indices, inds_inverted]\n",
    "        )  # include each triangle twice for both surfaces\n",
    "    else:\n",
    "        inds = case.indices\n",
    "\n",
    "    mesh = trimesh.Trimesh(case.nodes, inds, process=False, parent_obj=case)\n",
    "\n",
    "    if vertex_norms:\n",
    "        _ = mesh.vertex_normals  # compute vertex normals\n",
    "\n",
    "    if recenter:\n",
    "        mesh.apply_translation(\n",
    "            -mesh.centroid\n",
    "        )  # recenter mesh to origin, helps with lighting in default scene\n",
    "\n",
    "    return mesh\n"
   ]
  },
  {
   "cell_type": "code",
   "execution_count": 50,
   "metadata": {},
   "outputs": [],
   "source": [
    "tm_mesh = create_mesh(case, recenter=False, back_faces=False, vertex_norms=False)"
   ]
  },
  {
   "cell_type": "code",
   "execution_count": 209,
   "metadata": {},
   "outputs": [],
   "source": [
    "points = case.nodes\n",
    "triangles = case.indices.astype(int)  # each triangle is defined by three vertices\n",
    "\n",
    "num_points_per_face = np.full(shape=(len(triangles)), fill_value=3, dtype=int)  # all faces have three vertices\n",
    "faces = np.concatenate([num_points_per_face[:, np.newaxis], triangles], axis=1)\n",
    "\n",
    "pv_mesh = pyvista.PolyData(points, faces)"
   ]
  },
  {
   "cell_type": "code",
   "execution_count": 65,
   "metadata": {},
   "outputs": [],
   "source": [
    "indices = case.indices.astype(int)\n",
    "num_points_per_face = np.full(shape=(len(indices)), fill_value=3, dtype=int)  # all faces have three vertices\n",
    "faces = np.concatenate([num_points_per_face[:, np.newaxis], indices], axis=1)"
   ]
  },
  {
   "cell_type": "code",
   "execution_count": 66,
   "metadata": {},
   "outputs": [
    {
     "data": {
      "text/plain": [
       "array([[    3,  5343,  7474,  7523],\n",
       "       [    3,  7976,  4159,  4138],\n",
       "       [    3,  7953,  5780, 12295],\n",
       "       ...,\n",
       "       [    3, 10283, 10270, 14360],\n",
       "       [    3, 10283, 14360, 14361],\n",
       "       [    3, 14380,  6871, 14364]])"
      ]
     },
     "execution_count": 66,
     "metadata": {},
     "output_type": "execute_result"
    }
   ],
   "source": [
    "faces"
   ]
  },
  {
   "cell_type": "code",
   "execution_count": 327,
   "metadata": {},
   "outputs": [
    {
     "data": {
      "text/plain": [
       "{'parent_obj': new_dataset_2.mat( nodes: (14383, 3) indices: (16942, 3) fields: ('act', 'bip', 'uni', 'imp', 'frc') )}"
      ]
     },
     "execution_count": 327,
     "metadata": {},
     "output_type": "execute_result"
    }
   ],
   "source": [
    "tm_mesh._kwargs"
   ]
  },
  {
   "cell_type": "code",
   "execution_count": 330,
   "metadata": {},
   "outputs": [
    {
     "data": {
      "text/plain": [
       "array([[ 0.        ,  0.        ,  0.        ],\n",
       "       [ 0.84543579, -0.465814  , -0.26125781],\n",
       "       [ 0.97887202, -0.00126517, -0.20446999],\n",
       "       ...,\n",
       "       [-0.85332733,  0.35633213,  0.38060462],\n",
       "       [ 0.27711732, -0.19117224, -0.94162581],\n",
       "       [ 0.10340065, -0.05367752, -0.99319033]])"
      ]
     },
     "execution_count": 330,
     "metadata": {},
     "output_type": "execute_result"
    }
   ],
   "source": [
    "tm_mesh.vertex_normals"
   ]
  },
  {
   "cell_type": "code",
   "execution_count": 335,
   "metadata": {},
   "outputs": [
    {
     "data": {
      "text/plain": [
       "pyvista_ndarray([[ 0.        ,  0.        ,  0.        ],\n",
       "                 [ 0.84513116, -0.46618986, -0.2615727 ],\n",
       "                 [ 0.98033404,  0.00368209, -0.1973111 ],\n",
       "                 ...,\n",
       "                 [-0.85600066,  0.3372743 ,  0.39180207],\n",
       "                 [ 0.29737934, -0.20815478, -0.9317924 ],\n",
       "                 [ 0.09867398, -0.048568  , -0.9939339 ]], dtype=float32)"
      ]
     },
     "execution_count": 335,
     "metadata": {},
     "output_type": "execute_result"
    }
   ],
   "source": [
    "pv_mesh.point_normals"
   ]
  },
  {
   "cell_type": "code",
   "execution_count": 15,
   "metadata": {},
   "outputs": [
    {
     "data": {
      "text/plain": [
       "<matplotlib.collections.PathCollection at 0x7fc558cd1550>"
      ]
     },
     "execution_count": 15,
     "metadata": {},
     "output_type": "execute_result"
    },
    {
     "data": {
      "image/png": "[encoded data removed]",
      "text/plain": [
       "<Figure size 432x288 with 1 Axes>"
      ]
     },
     "metadata": {
      "needs_background": "light"
     },
     "output_type": "display_data"
    }
   ],
   "source": [
    "import matplotlib.pyplot as plt\n",
    "plt.scatter(points.T[0], points.T[1])"
   ]
  },
  {
   "cell_type": "code",
   "execution_count": 117,
   "metadata": {},
   "outputs": [
    {
     "data": {
      "text/plain": [
       "TrackedArray([[ 5343,  7474,  7523],\n",
       "              [ 7976,  4159,  4138],\n",
       "              [ 7953,  5780, 12295],\n",
       "              ...,\n",
       "              [10283, 10270, 14360],\n",
       "              [10283, 14360, 14361],\n",
       "              [14380,  6871, 14364]])"
      ]
     },
     "execution_count": 117,
     "metadata": {},
     "output_type": "execute_result"
    }
   ],
   "source": [
    "tm_mesh.faces"
   ]
  },
  {
   "cell_type": "code",
   "execution_count": 120,
   "metadata": {},
   "outputs": [
    {
     "data": {
      "text/plain": [
       "TrackedArray([[ 46.451, -98.879, 155.286],\n",
       "              [ 38.777, -94.997, 121.448],\n",
       "              [ 37.268, -69.189, 141.284],\n",
       "              ...,\n",
       "              [-62.585, -77.163, 133.982],\n",
       "              [-63.766, -76.47 , 119.425],\n",
       "              [-64.5  , -75.396, 119.241]])"
      ]
     },
     "execution_count": 120,
     "metadata": {},
     "output_type": "execute_result"
    }
   ],
   "source": [
    "tm_mesh.vertices"
   ]
  },
  {
   "cell_type": "code",
   "execution_count": 118,
   "metadata": {},
   "outputs": [
    {
     "data": {
      "text/plain": [
       "array([[ 5343,  7474,  7523],\n",
       "       [ 7976,  4159,  4138],\n",
       "       [ 7953,  5780, 12295],\n",
       "       ...,\n",
       "       [10283, 10270, 14360],\n",
       "       [10283, 14360, 14361],\n",
       "       [14380,  6871, 14364]])"
      ]
     },
     "execution_count": 118,
     "metadata": {},
     "output_type": "execute_result"
    }
   ],
   "source": [
    "pv_mesh.faces.reshape(-1, 4)[:, 1:]"
   ]
  },
  {
   "cell_type": "markdown",
   "metadata": {},
   "source": [
    "# 2. Replace get_anatomical_structures, get_free_boundaries, with PyVista - Done!"
   ]
  },
  {
   "cell_type": "code",
   "execution_count": 14,
   "metadata": {},
   "outputs": [],
   "source": [
    "filename = \"/Users/paul/github/openep-py/examples/data/new_dataset_2.mat\""
   ]
  },
  {
   "cell_type": "code",
   "execution_count": 5,
   "metadata": {},
   "outputs": [],
   "source": [
    "case = openep.io.load_case(filename)"
   ]
  },
  {
   "cell_type": "code",
   "execution_count": 7,
   "metadata": {},
   "outputs": [],
   "source": [
    "mesh = case.create_mesh(\n",
    "    vertex_norms=False,\n",
    "    recenter=False,\n",
    "    back_faces=False\n",
    ")"
   ]
  },
  {
   "cell_type": "code",
   "execution_count": 114,
   "metadata": {},
   "outputs": [
    {
     "data": {
      "text/plain": [
       "TrackedArray(True)"
      ]
     },
     "execution_count": 114,
     "metadata": {},
     "output_type": "execute_result"
    }
   ],
   "source": [
    "(tm_mesh.faces == mesh.faces.reshape(-1, 4)[:, 1:]).all()"
   ]
  },
  {
   "cell_type": "code",
   "execution_count": 130,
   "metadata": {},
   "outputs": [
    {
     "data": {
      "text/plain": [
       "[-12.025000000000002, -88.4265, 133.059]"
      ]
     },
     "execution_count": 130,
     "metadata": {},
     "output_type": "execute_result"
    }
   ],
   "source": [
    "mesh.center"
   ]
  },
  {
   "cell_type": "code",
   "execution_count": 126,
   "metadata": {},
   "outputs": [],
   "source": [
    "# Created using an old version of load_case\n",
    "tm_case = openep.io.load_case(filename)"
   ]
  },
  {
   "cell_type": "code",
   "execution_count": 127,
   "metadata": {},
   "outputs": [],
   "source": [
    "tm_mesh = tm_case.create_mesh(\n",
    "    vertex_norms=False,\n",
    "    recenter=False,\n",
    "    back_faces=False\n",
    ")"
   ]
  },
  {
   "cell_type": "code",
   "execution_count": 128,
   "metadata": {},
   "outputs": [
    {
     "data": {
      "text/plain": [
       "TrackedArray([[ 5343,  7474,  7523],\n",
       "              [ 7976,  4159,  4138],\n",
       "              [ 7953,  5780, 12295],\n",
       "              ...,\n",
       "              [10283, 10270, 14360],\n",
       "              [10283, 14360, 14361],\n",
       "              [14380,  6871, 14364]])"
      ]
     },
     "execution_count": 128,
     "metadata": {},
     "output_type": "execute_result"
    }
   ],
   "source": [
    "tm_mesh.faces"
   ]
  },
  {
   "cell_type": "code",
   "execution_count": 129,
   "metadata": {},
   "outputs": [
    {
     "data": {
      "text/plain": [
       "TrackedArray([[ 46.451, -98.879, 155.286],\n",
       "              [ 38.777, -94.997, 121.448],\n",
       "              [ 37.268, -69.189, 141.284],\n",
       "              ...,\n",
       "              [-62.585, -77.163, 133.982],\n",
       "              [-63.766, -76.47 , 119.425],\n",
       "              [-64.5  , -75.396, 119.241]])"
      ]
     },
     "execution_count": 129,
     "metadata": {},
     "output_type": "execute_result"
    }
   ],
   "source": [
    "tm_mesh.vertices"
   ]
  },
  {
   "cell_type": "code",
   "execution_count": null,
   "metadata": {},
   "outputs": [
    {
     "data": {
      "text/plain": [
       "array([  -4.87952569, -137.15706541,  189.30464945])"
      ]
     },
     "metadata": {},
     "output_type": "display_data"
    }
   ],
   "source": [
    "tm_mesh.center_mass"
   ]
  },
  {
   "cell_type": "code",
   "execution_count": null,
   "metadata": {},
   "outputs": [
    {
     "data": {
      "text/plain": [
       "array([ -6.81453072, -85.01814967, 133.68266536])"
      ]
     },
     "metadata": {},
     "output_type": "display_data"
    }
   ],
   "source": [
    "tm_mesh.centroid"
   ]
  },
  {
   "cell_type": "code",
   "execution_count": 132,
   "metadata": {},
   "outputs": [
    {
     "data": {
      "text/plain": [
       "TrackedArray(True)"
      ]
     },
     "execution_count": 132,
     "metadata": {},
     "output_type": "execute_result"
    }
   ],
   "source": [
    "# Check the meshes have the same faces\n",
    "(tm_mesh.faces == mesh.faces.reshape(-1, 4)[:, 1:]).all()"
   ]
  },
  {
   "cell_type": "markdown",
   "metadata": {},
   "source": [
    "## Create a Trimesh mesh from a pyvista mesh"
   ]
  },
  {
   "cell_type": "code",
   "execution_count": 190,
   "metadata": {},
   "outputs": [],
   "source": [
    "def _create_trimesh(pyvista_mesh):\n",
    "    \"\"\"Convert a pyvista mesh into a trimesh mesh.\n",
    "\n",
    "    Args:\n",
    "        pyvista_mesh (pyvista.PolyData): The pyvista mesh from which the trimesh mesh will be generated\n",
    "    \n",
    "    Returns:\n",
    "        trimesh_mesh (trimesh.Trimesh): The generated trimesh mesh\n",
    "    \"\"\"\n",
    "    \n",
    "    vertices = pyvista_mesh.points\n",
    "    faces = pyvista_mesh.faces.reshape(pyvista_mesh.n_faces, 4)[:, 1:]  # ignore to number of vertices per face\n",
    "    \n",
    "    return tm.Trimesh(vertices, faces, process=False)\n"
   ]
  },
  {
   "cell_type": "code",
   "execution_count": 186,
   "metadata": {},
   "outputs": [
    {
     "data": {
      "text/plain": [
       "<trimesh.Trimesh(vertices.shape=(8848, 3), faces.shape=(16942, 3))>"
      ]
     },
     "execution_count": 186,
     "metadata": {},
     "output_type": "execute_result"
    }
   ],
   "source": [
    "trimesh.Trimesh(case.nodes, case.indices)"
   ]
  },
  {
   "cell_type": "code",
   "execution_count": 192,
   "metadata": {},
   "outputs": [
    {
     "ename": "AttributeError",
     "evalue": "'Trimesh' object has no attribute 'plot'",
     "output_type": "error",
     "traceback": [
      "\u001b[0;31m---------------------------------------------------------------------------\u001b[0m",
      "\u001b[0;31mAttributeError\u001b[0m                            Traceback (most recent call last)",
      "\u001b[0;32m/var/folders/3x/026zvn0n35v9cg_b27xv40vm0000gn/T/ipykernel_1439/2132662912.py\u001b[0m in \u001b[0;36m<module>\u001b[0;34m\u001b[0m\n\u001b[0;32m----> 1\u001b[0;31m \u001b[0m_create_trimesh\u001b[0m\u001b[0;34m(\u001b[0m\u001b[0mmesh\u001b[0m\u001b[0;34m)\u001b[0m\u001b[0;34m.\u001b[0m\u001b[0mplot\u001b[0m\u001b[0;34m(\u001b[0m\u001b[0;34m)\u001b[0m\u001b[0;34m\u001b[0m\u001b[0;34m\u001b[0m\u001b[0m\n\u001b[0m",
      "\u001b[0;31mAttributeError\u001b[0m: 'Trimesh' object has no attribute 'plot'"
     ]
    }
   ],
   "source": [
    "_create_trimesh(mesh).plot()"
   ]
  },
  {
   "cell_type": "code",
   "execution_count": 167,
   "metadata": {},
   "outputs": [
    {
     "data": {
      "text/plain": [
       "(14383, 3)"
      ]
     },
     "execution_count": 167,
     "metadata": {},
     "output_type": "execute_result"
    }
   ],
   "source": [
    "tm_mesh.vertices.shape"
   ]
  },
  {
   "cell_type": "code",
   "execution_count": 162,
   "metadata": {},
   "outputs": [
    {
     "data": {
      "text/plain": [
       "(16942, 4)"
      ]
     },
     "execution_count": 162,
     "metadata": {},
     "output_type": "execute_result"
    }
   ],
   "source": [
    "mesh.faces.reshape(-1, 4).shape"
   ]
  },
  {
   "cell_type": "code",
   "execution_count": 163,
   "metadata": {},
   "outputs": [
    {
     "data": {
      "text/plain": [
       "(14383, 3)"
      ]
     },
     "execution_count": 163,
     "metadata": {},
     "output_type": "execute_result"
    }
   ],
   "source": [
    "mesh.points.shape"
   ]
  },
  {
   "cell_type": "code",
   "execution_count": 194,
   "metadata": {},
   "outputs": [
    {
     "data": {
      "text/html": [
       "\n",
       "<table>\n",
       "<tr><th>PolyData</th><th>Information</th></tr>\n",
       "<tr><td>N Cells</td><td>16942</td></tr>\n",
       "<tr><td>N Points</td><td>14383</td></tr>\n",
       "<tr><td>X Bounds</td><td>-6.555e+01, 4.150e+01</td></tr>\n",
       "<tr><td>Y Bounds</td><td>-1.300e+02, -4.681e+01</td></tr>\n",
       "<tr><td>Z Bounds</td><td>1.006e+02, 1.655e+02</td></tr>\n",
       "<tr><td>N Arrays</td><td>0</td></tr>\n",
       "</table>\n",
       "\n"
      ],
      "text/plain": [
       "PolyData (0x7fa3b07a2520)\n",
       "  N Cells:\t16942\n",
       "  N Points:\t14383\n",
       "  X Bounds:\t-6.555e+01, 4.150e+01\n",
       "  Y Bounds:\t-1.300e+02, -4.681e+01\n",
       "  Z Bounds:\t1.006e+02, 1.655e+02\n",
       "  N Arrays:\t0"
      ]
     },
     "execution_count": 194,
     "metadata": {},
     "output_type": "execute_result"
    }
   ],
   "source": [
    "# Creat a pyvista mesh from a trimesh mesh\n",
    "pyvista.wrap(tm_mesh)"
   ]
  },
  {
   "cell_type": "markdown",
   "metadata": {},
   "source": [
    "## openep.draw_routines.get_freeboundaries"
   ]
  },
  {
   "cell_type": "code",
   "execution_count": 342,
   "metadata": {},
   "outputs": [],
   "source": [
    "    def get_freeboundaries(mesh):\n",
    "        \n",
    "        freeboundary_vertex_nodes = []\n",
    "        freeboundaries = []\n",
    "\n",
    "        tri_outline = mesh.outline().to_dict()\n",
    "        mesh_outline_entities = mesh.outline().entities\n",
    "        no_of_freeboundaries = len(mesh_outline_entities)\n",
    "\n",
    "        # Find all the freeboundary facets\n",
    "        for i in range(no_of_freeboundaries):\n",
    "            freeboundary_vertex_nodes.append(tri_outline[\"entities\"][i][\"points\"])\n",
    "\n",
    "            # creating an array of fb values with the index of the points\n",
    "            for j in range(len(freeboundary_vertex_nodes[i]) - 1):\n",
    "                freeboundaries.append(\n",
    "                    [freeboundary_vertex_nodes[i][j], freeboundary_vertex_nodes[i][j + 1]]\n",
    "                )\n",
    "\n",
    "        freeboundaries = np.array(freeboundaries).astype(np.int64)\n",
    "\n",
    "        # TODO: this should return a numpy array rather than a dictionary\n",
    "        return {\"freeboundary\": freeboundaries}\n",
    "    "
   ]
  },
  {
   "cell_type": "code",
   "execution_count": 341,
   "metadata": {},
   "outputs": [],
   "source": [
    "def new_get_freeboundaries(mesh):\n",
    "\n",
    "    \"\"\"Gets the freeboundary/outlines of the 3-D mesh and returns the indices.\n",
    "    \n",
    "    Args:\n",
    "        mesh (pyvista.PolyData): Open mesh for which the free boundaries will be determined.\n",
    "\n",
    "    Returns:\n",
    "        freeboundaies_info (dict):\n",
    "            * freeboundary, Nx2 numpy array of indices of neighbouring points in the free boundaries\n",
    "    \"\"\"\n",
    "\n",
    "    tm_mesh = openep.draw_routines._create_trimesh(mesh)\n",
    "    \n",
    "    # extract the boundary information\n",
    "    boundaries = tm_mesh.outline()\n",
    "    boundaries_lines = boundaries.entities\n",
    "\n",
    "    # determine information about each boundary\n",
    "    all_boundaries_nodes = np.concatenate([line.points for line in boundaries_lines])\n",
    "    n_nodes_per_boundary = np.asarray([line.points.size for line in boundaries_lines])\n",
    "    n_boundaries = tm_mesh.outline().entities.size\n",
    "\n",
    "    # Create an array pairs of neighbouring nodes for each boundary\n",
    "    free_boundaries = np.vstack([all_boundaries_nodes[:-1], all_boundaries_nodes[1:]]).T\n",
    "\n",
    "    # Ignore the neighbours that are part of different boundaries\n",
    "    keep_neighbours = np.full_like(free_boundaries[:, 0], fill_value=True, dtype=bool)\n",
    "    keep_neighbours[n_nodes_per_boundary[:-1].cumsum()-1] = False\n",
    "    free_boundaries = free_boundaries[keep_neighbours]\n",
    "    \n",
    "    # TODO: return a tuple of numpy arrays rather than a dictionary\n",
    "    return {\n",
    "        \"freeboundary\": free_boundaries,\n",
    "        \"n_boundaries\": n_boundaries,\n",
    "        \"n_nodes_per_boundary\": n_nodes_per_boundary,\n",
    "    }\n"
   ]
  },
  {
   "cell_type": "code",
   "execution_count": null,
   "metadata": {},
   "outputs": [
    {
     "data": {
      "text/plain": [
       "True"
      ]
     },
     "metadata": {},
     "output_type": "display_data"
    }
   ],
   "source": [
    "(get_freeboundaries(tm_mesh)['freeboundary'] == new_get_freeboundaries(mesh)['freeboundary']).all()"
   ]
  },
  {
   "cell_type": "code",
   "execution_count": 7,
   "metadata": {},
   "outputs": [],
   "source": [
    "free_boundaries = openep.draw_routines.get_freeboundaries(mesh)"
   ]
  },
  {
   "cell_type": "markdown",
   "metadata": {},
   "source": [
    "## openep.def get_freeboundary_points(tri, fb):\n"
   ]
  },
  {
   "cell_type": "code",
   "execution_count": 346,
   "metadata": {},
   "outputs": [],
   "source": [
    "def get_freeboundary_points(tri, fb):\n",
    "    \"\"\"\n",
    "    Returns the coords of the vertices of the freeboundary/outlines.\n",
    "    Args:\n",
    "        tri (obj): Trimesh Object containing a triangular 3D mesh.\n",
    "\n",
    "\n",
    "    Returns:\n",
    "        float: coords, mx3 Array of coords of the vertices of the freeboundary/outlines.\n",
    "    \"\"\"\n",
    "\n",
    "    trimesh_points = tri.vertices\n",
    "    fb = fb[:, 0]\n",
    "    coords = np.array(list(trimesh_points[fb])).astype(np.float64)\n",
    "\n",
    "    return coords"
   ]
  },
  {
   "cell_type": "code",
   "execution_count": 361,
   "metadata": {},
   "outputs": [
    {
     "data": {
      "text/plain": [
       "pyvista_ndarray([[-60.821, -79.357, 122.192],\n",
       "                 [-60.195, -79.694, 122.34 ],\n",
       "                 [-59.442, -80.109, 122.538],\n",
       "                 ...,\n",
       "                 [ 38.499, -57.564, 151.294],\n",
       "                 [ 38.399, -57.336, 151.369],\n",
       "                 [ 38.246, -57.02 , 151.42 ]])"
      ]
     },
     "execution_count": 361,
     "metadata": {},
     "output_type": "execute_result"
    }
   ],
   "source": [
    "# return this in get_freeboundaries\n",
    "tm_mesh.vertices[new_get_freeboundaries(mesh)['freeboundary'][:, 0]]\n"
   ]
  },
  {
   "cell_type": "code",
   "execution_count": 351,
   "metadata": {},
   "outputs": [
    {
     "data": {
      "text/plain": [
       "array([[-60.821, -79.357, 122.192],\n",
       "       [-60.195, -79.694, 122.34 ],\n",
       "       [-59.442, -80.109, 122.538],\n",
       "       ...,\n",
       "       [ 38.499, -57.564, 151.294],\n",
       "       [ 38.399, -57.336, 151.369],\n",
       "       [ 38.246, -57.02 , 151.42 ]])"
      ]
     },
     "execution_count": 351,
     "metadata": {},
     "output_type": "execute_result"
    }
   ],
   "source": [
    "get_freeboundary_points(tm_mesh, get_freeboundaries(tm_mesh)['freeboundary'])"
   ]
  },
  {
   "cell_type": "code",
   "execution_count": 367,
   "metadata": {},
   "outputs": [
    {
     "data": {
      "text/plain": [
       "pyvista_ndarray(True)"
      ]
     },
     "execution_count": 367,
     "metadata": {},
     "output_type": "execute_result"
    }
   ],
   "source": [
    "(mesh.points[new_get_freeboundaries(mesh)['freeboundary'][:, 0]] == get_freeboundary_points(tm_mesh, get_freeboundaries(tm_mesh)['freeboundary'])).all()"
   ]
  },
  {
   "cell_type": "code",
   "execution_count": 364,
   "metadata": {},
   "outputs": [
    {
     "data": {
      "text/plain": [
       "TrackedArray(True)"
      ]
     },
     "execution_count": 364,
     "metadata": {},
     "output_type": "execute_result"
    }
   ],
   "source": [
    "(openep.draw_routines.get_freeboundary_points(mesh) == get_freeboundary_points(tm_mesh, get_freeboundaries(tm_mesh)['freeboundary'])).all()"
   ]
  },
  {
   "cell_type": "code",
   "execution_count": 365,
   "metadata": {},
   "outputs": [
    {
     "data": {
      "text/plain": [
       "TrackedArray([[-60.821, -79.357, 122.192],\n",
       "              [-60.195, -79.694, 122.34 ],\n",
       "              [-59.442, -80.109, 122.538],\n",
       "              ...,\n",
       "              [ 38.499, -57.564, 151.294],\n",
       "              [ 38.399, -57.336, 151.369],\n",
       "              [ 38.246, -57.02 , 151.42 ]])"
      ]
     },
     "execution_count": 365,
     "metadata": {},
     "output_type": "execute_result"
    }
   ],
   "source": [
    "openep.draw_routines.get_freeboundary_points(mesh)"
   ]
  },
  {
   "cell_type": "code",
   "execution_count": 366,
   "metadata": {},
   "outputs": [
    {
     "data": {
      "text/plain": [
       "array([[-60.821, -79.357, 122.192],\n",
       "       [-60.195, -79.694, 122.34 ],\n",
       "       [-59.442, -80.109, 122.538],\n",
       "       ...,\n",
       "       [ 38.499, -57.564, 151.294],\n",
       "       [ 38.399, -57.336, 151.369],\n",
       "       [ 38.246, -57.02 , 151.42 ]])"
      ]
     },
     "execution_count": 366,
     "metadata": {},
     "output_type": "execute_result"
    }
   ],
   "source": [
    "get_freeboundary_points(tm_mesh, get_freeboundaries(tm_mesh)['freeboundary'])"
   ]
  },
  {
   "cell_type": "markdown",
   "metadata": {},
   "source": [
    "## openep.draw_routines.free_boundary"
   ]
  },
  {
   "cell_type": "code",
   "execution_count": 377,
   "metadata": {},
   "outputs": [
    {
     "data": {
      "text/plain": [
       "[911.2752, 911.2752, 911.2752, 911.2752, 911.2752, 911.2752, 911.2752]"
      ]
     },
     "execution_count": 377,
     "metadata": {},
     "output_type": "execute_result"
    }
   ],
   "source": [
    "openep.draw_routines.free_boundary(mesh)['length']"
   ]
  },
  {
   "cell_type": "code",
   "execution_count": 387,
   "metadata": {},
   "outputs": [
    {
     "data": {
      "text/plain": [
       "[array([[14336, 14327],\n",
       "        [14327, 14357],\n",
       "        [14357, 14320],\n",
       "        [14320, 14325],\n",
       "        [14325, 14339],\n",
       "        [14339, 14319],\n",
       "        [14319, 14326],\n",
       "        [14326, 14335],\n",
       "        [14335, 14322],\n",
       "        [14322, 14355],\n",
       "        [14355, 14354],\n",
       "        [14354, 14351],\n",
       "        [14351, 14334],\n",
       "        [14334, 14350],\n",
       "        [14350,  3618],\n",
       "        [ 3618, 14333],\n",
       "        [14333, 14349],\n",
       "        [14349, 14321],\n",
       "        [14321, 14331],\n",
       "        [14331, 14369],\n",
       "        [14369, 14323],\n",
       "        [14323, 14344],\n",
       "        [14344, 14367],\n",
       "        [14367, 14332],\n",
       "        [14332, 14346],\n",
       "        [14346, 14345],\n",
       "        [14345, 14366],\n",
       "        [14366, 14375],\n",
       "        [14375, 14348],\n",
       "        [14348, 14374],\n",
       "        [14374, 14373],\n",
       "        [14373, 14380],\n",
       "        [14380, 14364],\n",
       "        [14364, 14372],\n",
       "        [14372, 14363],\n",
       "        [14363,   916],\n",
       "        [  916, 14342],\n",
       "        [14342, 14353],\n",
       "        [14353, 14362],\n",
       "        [14362, 14347],\n",
       "        [14347, 14341],\n",
       "        [14341, 14356],\n",
       "        [14356, 14343],\n",
       "        [14343,  9500],\n",
       "        [ 9500, 10265],\n",
       "        [10265, 14329],\n",
       "        [14329, 14330],\n",
       "        [14330, 14318],\n",
       "        [14318, 14324],\n",
       "        [14324, 14338],\n",
       "        [14338, 14337],\n",
       "        [14337, 14361],\n",
       "        [14361, 14360],\n",
       "        [14360, 14371],\n",
       "        [14371, 14379],\n",
       "        [14379, 14340],\n",
       "        [14340, 14352],\n",
       "        [14352, 14378],\n",
       "        [14378, 14382],\n",
       "        [14382, 14377],\n",
       "        [14377, 14381],\n",
       "        [14381, 14358],\n",
       "        [14358, 14370],\n",
       "        [14370, 14359],\n",
       "        [14359, 14368],\n",
       "        [14368, 14365],\n",
       "        [14365, 14376],\n",
       "        [14376, 14328],\n",
       "        [14328, 14336]]),\n",
       " array([[ 4107, 14090],\n",
       "        [14090, 11470],\n",
       "        [11470, 14046],\n",
       "        [14046, 14074],\n",
       "        [14074, 14116],\n",
       "        [14116, 14117],\n",
       "        [14117, 14134],\n",
       "        [14134, 14118],\n",
       "        [14118, 14076],\n",
       "        [14076, 14119],\n",
       "        [14119, 14099],\n",
       "        [14099,  3549],\n",
       "        [ 3549,  4428],\n",
       "        [ 4428, 14100],\n",
       "        [14100, 14078],\n",
       "        [14078, 14048],\n",
       "        [14048, 14059],\n",
       "        [14059, 14080],\n",
       "        [14080, 14081],\n",
       "        [14081, 14051],\n",
       "        [14051, 14042],\n",
       "        [14042, 14140],\n",
       "        [14140, 14135],\n",
       "        [14135, 14054],\n",
       "        [14054, 14067],\n",
       "        [14067, 14077],\n",
       "        [14077, 14120],\n",
       "        [14120, 14075],\n",
       "        [14075, 14097],\n",
       "        [14097, 14121],\n",
       "        [14121, 14136],\n",
       "        [14136, 14122],\n",
       "        [14122, 14101],\n",
       "        [14101, 14052],\n",
       "        [14052, 14065],\n",
       "        [14065, 14083],\n",
       "        [14083, 14102],\n",
       "        [14102, 14055],\n",
       "        [14055, 14049],\n",
       "        [14049, 14087],\n",
       "        [14087, 14091],\n",
       "        [14091, 14079],\n",
       "        [14079, 14040],\n",
       "        [14040, 14092],\n",
       "        [14092, 14044],\n",
       "        [14044, 14053],\n",
       "        [14053, 14142],\n",
       "        [14142, 14141],\n",
       "        [14141, 14137],\n",
       "        [14137, 14123],\n",
       "        [14123, 14124],\n",
       "        [14124, 14057],\n",
       "        [14057, 14125],\n",
       "        [14125, 14103],\n",
       "        [14103, 14104],\n",
       "        [14104, 14072],\n",
       "        [14072, 14138],\n",
       "        [14138, 14084],\n",
       "        [14084, 14043],\n",
       "        [14043, 14126],\n",
       "        [14126, 14069],\n",
       "        [14069, 14073],\n",
       "        [14073,  9281],\n",
       "        [ 9281, 14056],\n",
       "        [14056, 14105],\n",
       "        [14105, 14093],\n",
       "        [14093, 14095],\n",
       "        [14095, 14094],\n",
       "        [14094, 14058],\n",
       "        [14058, 14039],\n",
       "        [14039, 14127],\n",
       "        [14127, 14088],\n",
       "        [14088, 14128],\n",
       "        [14128, 14085],\n",
       "        [14085, 14129],\n",
       "        [14129, 14106],\n",
       "        [14106, 14082],\n",
       "        [14082, 14050],\n",
       "        [14050, 14089],\n",
       "        [14089, 14107],\n",
       "        [14107, 14108],\n",
       "        [14108, 14086],\n",
       "        [14086, 14070],\n",
       "        [14070, 14060],\n",
       "        [14060, 14063],\n",
       "        [14063, 14130],\n",
       "        [14130, 14139],\n",
       "        [14139, 14131],\n",
       "        [14131, 14109],\n",
       "        [14109, 14132],\n",
       "        [14132, 14110],\n",
       "        [14110, 14111],\n",
       "        [14111, 14096],\n",
       "        [14096, 14133],\n",
       "        [14133, 14112],\n",
       "        [14112, 14062],\n",
       "        [14062, 14113],\n",
       "        [14113, 14098],\n",
       "        [14098, 14064],\n",
       "        [14064, 14061],\n",
       "        [14061, 14068],\n",
       "        [14068, 14047],\n",
       "        [14047, 14066],\n",
       "        [14066, 14071],\n",
       "        [14071, 14038],\n",
       "        [14038, 14045],\n",
       "        [14045, 14041],\n",
       "        [14041, 14114],\n",
       "        [14114, 14115],\n",
       "        [14115,  4107]]),\n",
       " array([[ 6204, 14147],\n",
       "        [14147, 14170],\n",
       "        [14170, 14169],\n",
       "        [14169, 14143],\n",
       "        [14143, 14168],\n",
       "        [14168, 14193],\n",
       "        [14193, 14192],\n",
       "        [14192, 14210],\n",
       "        [14210, 14161],\n",
       "        [14161, 14209],\n",
       "        [14209, 14178],\n",
       "        [14178, 14181],\n",
       "        [14181, 14224],\n",
       "        [14224, 14167],\n",
       "        [14167, 14163],\n",
       "        [14163, 14191],\n",
       "        [14191,   447],\n",
       "        [  447, 14155],\n",
       "        [14155, 14222],\n",
       "        [14222, 14190],\n",
       "        [14190, 14188],\n",
       "        [14188, 14200],\n",
       "        [14200, 14201],\n",
       "        [14201, 14174],\n",
       "        [14174, 14164],\n",
       "        [14164,  8258],\n",
       "        [ 8258, 14160],\n",
       "        [14160, 14208],\n",
       "        [14208, 14145],\n",
       "        [14145, 14151],\n",
       "        [14151, 14162],\n",
       "        [14162, 14176],\n",
       "        [14176, 14189],\n",
       "        [14189, 14154],\n",
       "        [14154, 14157],\n",
       "        [14157, 14187],\n",
       "        [14187, 14152],\n",
       "        [14152, 14186],\n",
       "        [14186, 14148],\n",
       "        [14148, 14185],\n",
       "        [14185, 14153],\n",
       "        [14153, 14207],\n",
       "        [14207, 14184],\n",
       "        [14184, 14221],\n",
       "        [14221, 14159],\n",
       "        [14159, 14183],\n",
       "        [14183, 14158],\n",
       "        [14158, 14150],\n",
       "        [14150, 14171],\n",
       "        [14171, 14196],\n",
       "        [14196, 14182],\n",
       "        [14182, 14166],\n",
       "        [14166, 14205],\n",
       "        [14205, 14220],\n",
       "        [14220, 14206],\n",
       "        [14206, 14177],\n",
       "        [14177, 14165],\n",
       "        [14165, 14149],\n",
       "        [14149, 14204],\n",
       "        [14204, 14175],\n",
       "        [14175, 14202],\n",
       "        [14202, 14219],\n",
       "        [14219, 14218],\n",
       "        [14218, 14144],\n",
       "        [14144, 14146],\n",
       "        [14146, 14173],\n",
       "        [14173, 14203],\n",
       "        [14203, 14199],\n",
       "        [14199, 14217],\n",
       "        [14217, 14156],\n",
       "        [14156, 14198],\n",
       "        [14198, 14216],\n",
       "        [14216, 14197],\n",
       "        [14197, 14215],\n",
       "        [14215, 14223],\n",
       "        [14223, 14172],\n",
       "        [14172, 14179],\n",
       "        [14179, 14180],\n",
       "        [14180, 14195],\n",
       "        [14195, 14214],\n",
       "        [14214, 14213],\n",
       "        [14213, 14212],\n",
       "        [14212, 14194],\n",
       "        [14194, 10473],\n",
       "        [10473, 14211],\n",
       "        [14211,  6204]]),\n",
       " array([[14262, 14300],\n",
       "        [14300, 14314],\n",
       "        [14314, 14260],\n",
       "        [14260, 14283],\n",
       "        [14283, 14282],\n",
       "        [14282, 14228],\n",
       "        [14228, 14259],\n",
       "        [14259, 14274],\n",
       "        [14274, 14299],\n",
       "        [14299, 14264],\n",
       "        [14264, 14298],\n",
       "        [14298, 14297],\n",
       "        [14297, 14258],\n",
       "        [14258, 14256],\n",
       "        [14256, 14239],\n",
       "        [14239, 14296],\n",
       "        [14296, 14295],\n",
       "        [14295, 14313],\n",
       "        [14313, 14235],\n",
       "        [14235, 14248],\n",
       "        [14248, 14312],\n",
       "        [14312,  4972],\n",
       "        [ 4972, 14272],\n",
       "        [14272, 14316],\n",
       "        [14316, 14281],\n",
       "        [14281, 14253],\n",
       "        [14253, 14294],\n",
       "        [14294, 10679],\n",
       "        [10679, 14293],\n",
       "        [14293, 14292],\n",
       "        [14292, 14311],\n",
       "        [14311, 14310],\n",
       "        [14310, 14237],\n",
       "        [14237, 14233],\n",
       "        [14233, 14254],\n",
       "        [14254, 14280],\n",
       "        [14280, 14252],\n",
       "        [14252, 14229],\n",
       "        [14229, 14291],\n",
       "        [14291, 14309],\n",
       "        [14309, 14290],\n",
       "        [14290, 14308],\n",
       "        [14308, 14251],\n",
       "        [14251, 14249],\n",
       "        [14249, 14279],\n",
       "        [14279, 14241],\n",
       "        [14241, 14289],\n",
       "        [14289, 14226],\n",
       "        [14226, 14245],\n",
       "        [14245, 14244],\n",
       "        [14244, 14278],\n",
       "        [14278, 14288],\n",
       "        [14288, 14307],\n",
       "        [14307, 14246],\n",
       "        [14246, 14287],\n",
       "        [14287,  4529],\n",
       "        [ 4529, 14261],\n",
       "        [14261, 14317],\n",
       "        [14317, 14306],\n",
       "        [14306, 11123],\n",
       "        [11123, 14230],\n",
       "        [14230, 14243],\n",
       "        [14243, 14236],\n",
       "        [14236, 14240],\n",
       "        [14240, 14276],\n",
       "        [14276, 14231],\n",
       "        [14231, 14268],\n",
       "        [14268, 14273],\n",
       "        [14273, 14232],\n",
       "        [14232, 14286],\n",
       "        [14286, 14305],\n",
       "        [14305, 14277],\n",
       "        [14277, 14304],\n",
       "        [14304, 14285],\n",
       "        [14285, 14303],\n",
       "        [14303, 14315],\n",
       "        [14315, 14242],\n",
       "        [14242, 14234],\n",
       "        [14234, 14250],\n",
       "        [14250, 14225],\n",
       "        [14225, 14238],\n",
       "        [14238, 14270],\n",
       "        [14270, 14247],\n",
       "        [14247, 14267],\n",
       "        [14267, 14284],\n",
       "        [14284, 14269],\n",
       "        [14269, 14271],\n",
       "        [14271, 14266],\n",
       "        [14266, 14265],\n",
       "        [14265, 14257],\n",
       "        [14257, 14275],\n",
       "        [14275, 14302],\n",
       "        [14302, 14227],\n",
       "        [14227, 14263],\n",
       "        [14263, 14255],\n",
       "        [14255, 14301],\n",
       "        [14301, 14262]]),\n",
       " array([[11839, 13967],\n",
       "        [13967, 13968],\n",
       "        [13968, 13945],\n",
       "        [13945, 13991],\n",
       "        [13991, 13948],\n",
       "        [13948, 13953],\n",
       "        [13953, 13962],\n",
       "        [13962, 13961],\n",
       "        [13961, 13989],\n",
       "        [13989, 13959],\n",
       "        [13959, 13987],\n",
       "        [13987, 13950],\n",
       "        [13950, 13958],\n",
       "        [13958, 13944],\n",
       "        [13944, 13981],\n",
       "        [13981, 13960],\n",
       "        [13960, 13990],\n",
       "        [13990, 13949],\n",
       "        [13949, 13985],\n",
       "        [13985, 13988],\n",
       "        [13988, 13984],\n",
       "        [13984, 14006],\n",
       "        [14006, 13986],\n",
       "        [13986, 14022],\n",
       "        [14022, 14021],\n",
       "        [14021, 14032],\n",
       "        [14032, 14005],\n",
       "        [14005, 14020],\n",
       "        [14020, 14001],\n",
       "        [14001, 14019],\n",
       "        [14019, 13983],\n",
       "        [13983, 13997],\n",
       "        [13997, 13955],\n",
       "        [13955, 13980],\n",
       "        [13980, 14018],\n",
       "        [14018, 14017],\n",
       "        [14017, 13994],\n",
       "        [13994, 14016],\n",
       "        [14016, 14015],\n",
       "        [14015, 14014],\n",
       "        [14014, 14004],\n",
       "        [14004, 14013],\n",
       "        [14013, 14007],\n",
       "        [14007, 14031],\n",
       "        [14031, 13954],\n",
       "        [13954, 13946],\n",
       "        [13946, 13972],\n",
       "        [13972, 13957],\n",
       "        [13957, 13956],\n",
       "        [13956, 13973],\n",
       "        [13973, 13979],\n",
       "        [13979, 14003],\n",
       "        [14003, 14012],\n",
       "        [14012, 13963],\n",
       "        [13963, 14000],\n",
       "        [14000, 13977],\n",
       "        [13977, 13999],\n",
       "        [13999, 13978],\n",
       "        [13978, 13971],\n",
       "        [13971, 14030],\n",
       "        [14030, 13996],\n",
       "        [13996, 13947],\n",
       "        [13947, 13975],\n",
       "        [13975, 13952],\n",
       "        [13952, 13982],\n",
       "        [13982, 14011],\n",
       "        [14011, 14029],\n",
       "        [14029, 13998],\n",
       "        [13998, 14028],\n",
       "        [14028, 14035],\n",
       "        [14035, 14002],\n",
       "        [14002, 13976],\n",
       "        [13976, 13992],\n",
       "        [13992, 14034],\n",
       "        [14034, 14036],\n",
       "        [14036, 14037],\n",
       "        [14037, 13969],\n",
       "        [13969, 13965],\n",
       "        [13965, 14027],\n",
       "        [14027, 14026],\n",
       "        [14026, 13951],\n",
       "        [13951, 13974],\n",
       "        [13974, 13970],\n",
       "        [13970, 13966],\n",
       "        [13966, 13995],\n",
       "        [13995, 14010],\n",
       "        [14010, 14025],\n",
       "        [14025, 14009],\n",
       "        [14009, 14024],\n",
       "        [14024, 14033],\n",
       "        [14033, 13964],\n",
       "        [13964, 13993],\n",
       "        [13993, 14008],\n",
       "        [14008, 14023],\n",
       "        [14023, 11839]]),\n",
       " array([[ 4407,  5710],\n",
       "        [ 5710, 13751],\n",
       "        [13751, 13716],\n",
       "        [13716, 13676],\n",
       "        [13676, 13752],\n",
       "        [13752, 13659],\n",
       "        [13659, 13753],\n",
       "        [13753, 13699],\n",
       "        [13699, 13688],\n",
       "        [13688, 13687],\n",
       "        [13687, 13754],\n",
       "        [13754, 13755],\n",
       "        [13755, 13756],\n",
       "        [13756,  1145],\n",
       "        [ 1145, 13652],\n",
       "        [13652, 13645],\n",
       "        [13645, 13797],\n",
       "        [13797, 13658],\n",
       "        [13658, 13757],\n",
       "        [13757, 13718],\n",
       "        [13718, 13758],\n",
       "        [13758, 13657],\n",
       "        [13657, 13785],\n",
       "        [13785, 13759],\n",
       "        [13759, 13686],\n",
       "        [13686, 13717],\n",
       "        [13717, 13798],\n",
       "        [13798, 13672],\n",
       "        [13672, 13760],\n",
       "        [13760, 13762],\n",
       "        [13762, 13703],\n",
       "        [13703, 13719],\n",
       "        [13719, 13668],\n",
       "        [13668, 13799],\n",
       "        [13799, 13786],\n",
       "        [13786, 13720],\n",
       "        [13720, 13775],\n",
       "        [13775, 13787],\n",
       "        [13787, 13764],\n",
       "        [13764, 13721],\n",
       "        [13721, 13680],\n",
       "        [13680, 13689],\n",
       "        [13689, 13691],\n",
       "        [13691, 13765],\n",
       "        [13765, 13712],\n",
       "        [13712, 13722],\n",
       "        [13722, 13655],\n",
       "        [13655, 13723],\n",
       "        [13723, 13694],\n",
       "        [13694, 13697],\n",
       "        [13697, 13664],\n",
       "        [13664, 13788],\n",
       "        [13788, 13766],\n",
       "        [13766, 13800],\n",
       "        [13800, 13789],\n",
       "        [13789, 13724],\n",
       "        [13724, 13725],\n",
       "        [13725, 13767],\n",
       "        [13767, 13666],\n",
       "        [13666, 13768],\n",
       "        [13768, 13726],\n",
       "        [13726, 13727],\n",
       "        [13727, 13769],\n",
       "        [13769, 13695],\n",
       "        [13695, 13690],\n",
       "        [13690, 13701],\n",
       "        [13701, 13692],\n",
       "        [13692, 13770],\n",
       "        [13770, 13771],\n",
       "        [13771, 13653],\n",
       "        [13653, 13790],\n",
       "        [13790, 13772],\n",
       "        [13772, 13763],\n",
       "        [13763, 13728],\n",
       "        [13728, 13698],\n",
       "        [13698, 13667],\n",
       "        [13667, 13650],\n",
       "        [13650, 13791],\n",
       "        [13791, 13761],\n",
       "        [13761, 13773],\n",
       "        [13773, 13729],\n",
       "        [13729, 13730],\n",
       "        [13730, 13731],\n",
       "        [13731, 13671],\n",
       "        [13671, 13648],\n",
       "        [13648, 13732],\n",
       "        [13732, 13673],\n",
       "        [13673, 13702],\n",
       "        [13702, 13654],\n",
       "        [13654, 13705],\n",
       "        [13705, 13665],\n",
       "        [13665, 13774],\n",
       "        [13774, 13733],\n",
       "        [13733, 13734],\n",
       "        [13734, 13696],\n",
       "        [13696, 13675],\n",
       "        [13675, 13735],\n",
       "        [13735, 13707],\n",
       "        [13707, 13670],\n",
       "        [13670, 13708],\n",
       "        [13708, 13736],\n",
       "        [13736, 13709],\n",
       "        [13709, 13677],\n",
       "        [13677, 13737],\n",
       "        [13737, 13646],\n",
       "        [13646, 13684],\n",
       "        [13684, 13710],\n",
       "        [13710, 13679],\n",
       "        [13679, 13681],\n",
       "        [13681, 13662],\n",
       "        [13662, 13656],\n",
       "        [13656, 13747],\n",
       "        [13747, 13776],\n",
       "        [13776, 13738],\n",
       "        [13738, 13777],\n",
       "        [13777, 13715],\n",
       "        [13715, 13739],\n",
       "        [13739, 13647],\n",
       "        [13647, 13651],\n",
       "        [13651, 13792],\n",
       "        [13792, 13793],\n",
       "        [13793, 13779],\n",
       "        [13779, 13678],\n",
       "        [13678, 13741],\n",
       "        [13741, 13711],\n",
       "        [13711, 13713],\n",
       "        [13713, 13704],\n",
       "        [13704, 13706],\n",
       "        [13706, 13683],\n",
       "        [13683, 13780],\n",
       "        [13780, 13742],\n",
       "        [13742, 13781],\n",
       "        [13781, 13693],\n",
       "        [13693, 13743],\n",
       "        [13743, 13740],\n",
       "        [13740, 13744],\n",
       "        [13744, 13745],\n",
       "        [13745, 13783],\n",
       "        [13783, 13746],\n",
       "        [13746, 13669],\n",
       "        [13669, 13748],\n",
       "        [13748, 13700],\n",
       "        [13700, 13714],\n",
       "        [13714, 13674],\n",
       "        [13674, 13685],\n",
       "        [13685, 13649],\n",
       "        [13649, 13663],\n",
       "        [13663, 13782],\n",
       "        [13782, 13749],\n",
       "        [13749, 13682],\n",
       "        [13682, 13661],\n",
       "        [13661, 13660],\n",
       "        [13660, 13801],\n",
       "        [13801, 13802],\n",
       "        [13802, 13794],\n",
       "        [13794, 13784],\n",
       "        [13784, 13750],\n",
       "        [13750, 13795],\n",
       "        [13795, 13778],\n",
       "        [13778, 13803],\n",
       "        [13803, 13796],\n",
       "        [13796,  4407]]),\n",
       " array([[ 2447, 13804],\n",
       "        [13804, 13889],\n",
       "        [13889, 13839],\n",
       "        [13839, 13867],\n",
       "        [13867, 13822],\n",
       "        [13822, 13897],\n",
       "        [13897, 13924],\n",
       "        [13924, 13923],\n",
       "        [13923, 13896],\n",
       "        [13896, 13895],\n",
       "        [13895, 13894],\n",
       "        [13894, 13922],\n",
       "        [13922, 13851],\n",
       "        [13851, 13862],\n",
       "        [13862, 13919],\n",
       "        [13919, 13882],\n",
       "        [13882, 13918],\n",
       "        [13918, 13866],\n",
       "        [13866, 13893],\n",
       "        [13893, 13892],\n",
       "        [13892,   896],\n",
       "        [  896, 13823],\n",
       "        [13823, 13820],\n",
       "        [13820, 13865],\n",
       "        [13865, 13838],\n",
       "        [13838, 13864],\n",
       "        [13864, 13832],\n",
       "        [13832, 13863],\n",
       "        [13863, 13808],\n",
       "        [13808, 13860],\n",
       "        [13860, 13891],\n",
       "        [13891, 13890],\n",
       "        [13890, 13837],\n",
       "        [13837, 13833],\n",
       "        [13833, 13826],\n",
       "        [13826, 13836],\n",
       "        [13836, 13842],\n",
       "        [13842, 13859],\n",
       "        [13859, 13888],\n",
       "        [13888, 12098],\n",
       "        [12098, 13917],\n",
       "        [13917, 13935],\n",
       "        [13935, 13829],\n",
       "        [13829, 13887],\n",
       "        [13887, 13886],\n",
       "        [13886, 13916],\n",
       "        [13916, 13934],\n",
       "        [13934, 13885],\n",
       "        [13885, 13915],\n",
       "        [13915, 13880],\n",
       "        [13880, 13914],\n",
       "        [13914, 13913],\n",
       "        [13913, 13821],\n",
       "        [13821, 13834],\n",
       "        [13834, 13858],\n",
       "        [13858, 13831],\n",
       "        [13831, 13856],\n",
       "        [13856, 13830],\n",
       "        [13830, 13840],\n",
       "        [13840, 13806],\n",
       "        [13806, 13810],\n",
       "        [13810, 13812],\n",
       "        [13812, 13827],\n",
       "        [13827, 13814],\n",
       "        [13814, 13855],\n",
       "        [13855, 13884],\n",
       "        [13884, 13912],\n",
       "        [13912, 13854],\n",
       "        [13854, 13873],\n",
       "        [13873, 13852],\n",
       "        [13852, 13883],\n",
       "        [13883, 13907],\n",
       "        [13907, 13809],\n",
       "        [13809, 13825],\n",
       "        [13825, 13835],\n",
       "        [13835, 13817],\n",
       "        [13817, 13813],\n",
       "        [13813, 13824],\n",
       "        [13824, 13850],\n",
       "        [13850, 13848],\n",
       "        [13848, 13881],\n",
       "        [13881, 13911],\n",
       "        [13911, 13879],\n",
       "        [13879, 13878],\n",
       "        [13878, 13910],\n",
       "        [13910, 13933],\n",
       "        [13933, 13876],\n",
       "        [13876, 13875],\n",
       "        [13875, 13909],\n",
       "        [13909, 13908],\n",
       "        [13908, 13932],\n",
       "        [13932, 13931],\n",
       "        [13931, 13940],\n",
       "        [13940, 13903],\n",
       "        [13903, 13874],\n",
       "        [13874, 13930],\n",
       "        [13930, 13939],\n",
       "        [13939, 13938],\n",
       "        [13938, 13920],\n",
       "        [13920, 13929],\n",
       "        [13929, 13921],\n",
       "        [13921, 13943],\n",
       "        [13943, 13928],\n",
       "        [13928, 13937],\n",
       "        [13937, 13942],\n",
       "        [13942, 13936],\n",
       "        [13936, 13941],\n",
       "        [13941, 13815],\n",
       "        [13815, 13847],\n",
       "        [13847, 13871],\n",
       "        [13871, 13816],\n",
       "        [13816, 13846],\n",
       "        [13846, 13828],\n",
       "        [13828, 13870],\n",
       "        [13870, 13906],\n",
       "        [13906, 13818],\n",
       "        [13818, 13905],\n",
       "        [13905, 13927],\n",
       "        [13927, 13849],\n",
       "        [13849, 13904],\n",
       "        [13904, 13877],\n",
       "        [13877, 13807],\n",
       "        [13807, 13805],\n",
       "        [13805, 13845],\n",
       "        [13845, 13844],\n",
       "        [13844, 13861],\n",
       "        [13861, 13902],\n",
       "        [13902, 13926],\n",
       "        [13926, 13857],\n",
       "        [13857, 13901],\n",
       "        [13901, 13872],\n",
       "        [13872, 13819],\n",
       "        [13819, 13843],\n",
       "        [13843, 13869],\n",
       "        [13869, 13853],\n",
       "        [13853, 13841],\n",
       "        [13841, 13868],\n",
       "        [13868, 13900],\n",
       "        [13900, 13899],\n",
       "        [13899, 13925],\n",
       "        [13925, 13898],\n",
       "        [13898, 13811],\n",
       "        [13811,  2447]])]"
      ]
     },
     "execution_count": 387,
     "metadata": {},
     "output_type": "execute_result"
    }
   ],
   "source": [
    "openep.draw_routines.free_boundary(mesh)['connected_freeboundary']"
   ]
  },
  {
   "cell_type": "code",
   "execution_count": 392,
   "metadata": {},
   "outputs": [],
   "source": [
    "def free_boundary(tri):\n",
    "    \"\"\"\n",
    "    Returns an array of connected free boundaries/outlines and the length of each of the freeboundary/outline.\n",
    "    Args:\n",
    "        tri (obj): Trimesh Object containing a triangular 3D mesh.\n",
    "\n",
    "    Returns:\n",
    "        int: connected_freeboundary, mx2 array of connectecd freeboundary indices.\n",
    "        float: length, list containing the length of each of the freeboundaries/outlines.\n",
    "    \"\"\"\n",
    "\n",
    "    length = []\n",
    "\n",
    "    f_fall = openep.draw_routines.get_freeboundaries(tri)\n",
    "    fb = f_fall[\"freeboundary\"]\n",
    "\n",
    "    test_set = np.array(list(np.zeros((fb.shape[0], fb.shape[1]))))\n",
    "    test_set[:] = np.nan\n",
    "    test_set[:, 0] = fb[:, 0]\n",
    "\n",
    "    # exctracting the contents of 2nd columm fb array into the testset\n",
    "    second_col_fb = list(map(lambda x: x, fb[:, 1][0 : len(fb) - 1]))  # noqa: E203\n",
    "    second_col_fb.insert(0, fb[:, 1][-1])\n",
    "    second_col_fb = np.array(second_col_fb)\n",
    "\n",
    "    # Assigning the values of the second column to the 2nd column of testset\n",
    "    test_set[:, 1] = second_col_fb\n",
    "\n",
    "    # isstat\n",
    "    i_start = np.where(np.diff(a=test_set, n=1, axis=1).astype(np.int64))[0]\n",
    "\n",
    "    ff = []\n",
    "\n",
    "    if not list(i_start):\n",
    "        ff.append(np.array(fb))\n",
    "        coords = openep.draw_routines.get_freeboundary_points(tri)\n",
    "        length.append(openep.draw_routines.line_length(coords))\n",
    "    else:\n",
    "        for i in range(i_start.shape[0]):\n",
    "            if i < (i_start.shape[0] - 1):\n",
    "                np.array(ff.append(fb[i_start[i] : i_start[i + 1]]))  # noqa E203\n",
    "                coords = openep.draw_routines.get_freeboundary_points(tri)\n",
    "                length.append(openep.draw_routines.line_length(coords))\n",
    "            else:\n",
    "                ff.append(fb[i_start[i]:])\n",
    "                coords = openep.draw_routines.get_freeboundary_points(tri)\n",
    "                length.append(openep.draw_routines.line_length(coords))\n",
    "\n",
    "    return {\"connected_freeboundary\": ff, \"length\": length}"
   ]
  },
  {
   "cell_type": "code",
   "execution_count": 477,
   "metadata": {},
   "outputs": [],
   "source": [
    "from dataclasses import dataclass\n",
    "from openep.draw_routines import line_length\n",
    "\n",
    "@dataclass\n",
    "class FreeBoundary:\n",
    "    \"\"\"Class for storing information on the free boundaries of a mesh.\"\"\"\n",
    "    freeboundary: np.ndarray\n",
    "    free_boundary_points: np.ndarray\n",
    "    n_boundaries: int\n",
    "    n_nodes_per_boundary: np.ndarray\n",
    "    \n",
    "    def __post_init__(self):\n",
    "        \n",
    "        start_indices = list(np.cumsum(self.n_nodes_per_boundary[:-1] - 1))\n",
    "        start_indices.insert(0, 0)\n",
    "        self._start_indices = np.asarray(start_indices)\n",
    "\n",
    "        stop_indices = start_indices[1:]\n",
    "        stop_indices.append(None)\n",
    "        self._stop_indices = np.asarray(stop_indices)\n",
    "    \n",
    "    def separate_boundaries(self):\n",
    "        \"\"\"\n",
    "        Returns a list of numpy arrays where each array contains the indices of\n",
    "        node pairs in a single free boundary.\n",
    "        \n",
    "        \"\"\"\n",
    "        \n",
    "        separate_boundaries = [\n",
    "            self.freeboundary[start:stop] for start, stop in zip(self._start_indices, self._stop_indices)\n",
    "        ]\n",
    "        \n",
    "        return separate_boundaries\n",
    "        \n",
    "\n",
    "    def calculate_lengths(self):\n",
    "        \"\"\"\n",
    "        Returns the length of the perimeter of each free boundary.\n",
    "        \"\"\"\n",
    "        \n",
    "        lengths = [\n",
    "            line_length(self.free_boundary_points[start:stop]) for start, stop in zip(self._start_indices, self._stop_indices)\n",
    "        ]\n",
    "            \n",
    "        return np.asarray(lengths)\n"
   ]
  },
  {
   "cell_type": "code",
   "execution_count": 10,
   "metadata": {},
   "outputs": [],
   "source": [
    "# generate a FreeBoundary object\n",
    "free_boundaries = openep.draw_routines.get_freeboundaries(mesh)\n",
    "fb = openep.draw_routines.FreeBoundary(**free_boundaries)"
   ]
  },
  {
   "cell_type": "code",
   "execution_count": 11,
   "metadata": {},
   "outputs": [
    {
     "data": {
      "text/plain": [
       "array([ 49.54177102,  65.92530412,  67.71142462,  84.76738961,\n",
       "        63.44614224, 119.60159341,  96.85545027])"
      ]
     },
     "execution_count": 11,
     "metadata": {},
     "output_type": "execute_result"
    }
   ],
   "source": [
    "fb.calculate_lengths()"
   ]
  },
  {
   "cell_type": "code",
   "execution_count": 522,
   "metadata": {},
   "outputs": [
    {
     "data": {
      "text/plain": [
       "array([ 49.5418,  65.9256,  67.7116,  84.7681,  63.4462, 119.6015,\n",
       "        96.8559])"
      ]
     },
     "execution_count": 522,
     "metadata": {},
     "output_type": "execute_result"
    }
   ],
   "source": [
    "fb.calculate_lengths()"
   ]
  },
  {
   "cell_type": "code",
   "execution_count": null,
   "metadata": {},
   "outputs": [],
   "source": [
    "              MATLAB   | Py New    | Py previous\n",
    "Perimeter is: 67.994   | 67.7116   | 69.4603\n",
    "Perimeter is: 97.0835  | 96.8559   | 98.9257\n",
    "Perimeter is: 48.4671  | 49.5418   | 49.6852\n",
    "Perimeter is: 120.3745 | 119.6015  | 122.2539\n",
    "Perimeter is: 66.1018  | 65.9256   | 66.8485\n",
    "Perimeter is: 82.9701  | 84.7681   | 84.9425\n",
    "Perimeter is: 63.4461  | 63.4462   | 65.7998\n"
   ]
  },
  {
   "cell_type": "code",
   "execution_count": 482,
   "metadata": {},
   "outputs": [
    {
     "name": "stdout",
     "output_type": "stream",
     "text": [
      "True\n",
      "True\n",
      "True\n",
      "True\n",
      "True\n",
      "True\n",
      "True\n"
     ]
    }
   ],
   "source": [
    "for i in range(7):\n",
    "\n",
    "    print((fb.separate_boundaries()[i] == free_boundary(mesh)['connected_freeboundary'][i]).all())"
   ]
  },
  {
   "cell_type": "code",
   "execution_count": 483,
   "metadata": {},
   "outputs": [],
   "source": [
    "def line_length(h):\n",
    "    \"\"\"\n",
    "    Calculates the Length of a line.\n",
    "\n",
    "    Args:\n",
    "        h (float): mx3 array of cartesian co-ordinates representing the line.\n",
    "\n",
    "    Returns:\n",
    "        float: l, mx1 array of length of the line.\n",
    "    \"\"\"\n",
    "    #   remove any Nan values\n",
    "    data = h[~np.isnan(h)].reshape(h.shape[0], h.shape[1])\n",
    "\n",
    "    dx = np.diff(data[:, 0])\n",
    "    dy = np.diff(data[:, 1])\n",
    "    dz = np.diff(data[:, 2])\n",
    "\n",
    "    length = 0\n",
    "    for i in range(len(dx)):\n",
    "        length = np.round(\n",
    "            length + np.sqrt(np.square(dx[i]) + np.square(dy[i]) + np.square(dz[i])), 4\n",
    "        )\n",
    "\n",
    "    return length"
   ]
  },
  {
   "cell_type": "code",
   "execution_count": 485,
   "metadata": {},
   "outputs": [
    {
     "data": {
      "text/plain": [
       "911.2752"
      ]
     },
     "execution_count": 485,
     "metadata": {},
     "output_type": "execute_result"
    }
   ],
   "source": [
    "line_length(fb.free_boundary_points)"
   ]
  },
  {
   "cell_type": "code",
   "execution_count": 518,
   "metadata": {},
   "outputs": [],
   "source": [
    "def new_line_length(points):\n",
    "    \"\"\"\n",
    "    Calculates the length of a line defined by the positions of a sequence of points.\n",
    "\n",
    "    Args:\n",
    "        points (ndarray): Nx3 array of cartesian coordinates of points along the line.\n",
    "\n",
    "    Returns:\n",
    "        length (float): length of the line\n",
    "    \"\"\"\n",
    "    \n",
    "    distance_between_neighbours = np.sqrt(np.sum(np.square(np.diff(points, axis=0)), axis=1))\n",
    "    total_distance = np.sum(distance_between_neighbours)\n",
    "    \n",
    "    return float(total_distance)\n"
   ]
  },
  {
   "cell_type": "code",
   "execution_count": 497,
   "metadata": {},
   "outputs": [],
   "source": [
    "points = fb.free_boundary_points"
   ]
  },
  {
   "cell_type": "code",
   "execution_count": 506,
   "metadata": {},
   "outputs": [
    {
     "data": {
      "text/plain": [
       "(761, 3)"
      ]
     },
     "execution_count": 506,
     "metadata": {},
     "output_type": "execute_result"
    }
   ],
   "source": [
    "np.square(np.diff(points, axis=0)).shape"
   ]
  },
  {
   "cell_type": "code",
   "execution_count": 519,
   "metadata": {},
   "outputs": [
    {
     "data": {
      "text/plain": [
       "911.2735622617231"
      ]
     },
     "execution_count": 519,
     "metadata": {},
     "output_type": "execute_result"
    }
   ],
   "source": [
    "new_line_length(points)"
   ]
  },
  {
   "cell_type": "code",
   "execution_count": 520,
   "metadata": {},
   "outputs": [
    {
     "data": {
      "text/plain": [
       "911.2752"
      ]
     },
     "execution_count": 520,
     "metadata": {},
     "output_type": "execute_result"
    }
   ],
   "source": [
    "line_length(points)"
   ]
  },
  {
   "cell_type": "markdown",
   "metadata": {},
   "source": [
    "## openep.draw_routines.draw_free_boundaries"
   ]
  },
  {
   "cell_type": "code",
   "execution_count": 8,
   "metadata": {},
   "outputs": [],
   "source": [
    "filename = \"/Users/paul/github/openep-py/examples/data/new_dataset_2.mat\""
   ]
  },
  {
   "cell_type": "code",
   "execution_count": 9,
   "metadata": {},
   "outputs": [],
   "source": [
    "case = openep.io.load_case(filename)"
   ]
  },
  {
   "cell_type": "code",
   "execution_count": 10,
   "metadata": {},
   "outputs": [],
   "source": [
    "mesh = case.create_mesh(\n",
    "    vertex_norms=False,\n",
    "    recenter=False,\n",
    "    back_faces=False\n",
    ")"
   ]
  },
  {
   "cell_type": "code",
   "execution_count": 11,
   "metadata": {},
   "outputs": [],
   "source": [
    "# generate a FreeBoundary object\n",
    "free_boundaries = openep.draw_routines.get_freeboundaries(mesh)\n",
    "fb = openep.draw_routines.FreeBoundary(mesh, **free_boundaries)"
   ]
  },
  {
   "cell_type": "code",
   "execution_count": 12,
   "metadata": {},
   "outputs": [
    {
     "name": "stderr",
     "output_type": "stream",
     "text": [
      "/usr/local/Caskroom/miniconda/base/envs/openep/lib/python3.8/site-packages/traittypes/traittypes.py:97: UserWarning: Given trait value dtype \"float64\" does not match required type \"float64\". A coerced copy has been created.\n",
      "  warnings.warn(\n"
     ]
    },
    {
     "data": {
      "application/vnd.jupyter.widget-view+json": {
       "model_id": "be3d5ee495a849aca4d1e61c91085384",
       "version_major": 2,
       "version_minor": 0
      },
      "text/plain": [
       "Scene(background_color='#ffffff', camera={'position': [71.80763645292058, -4.5938635470794225, 216.89163645292…"
      ]
     },
     "metadata": {},
     "output_type": "display_data"
    }
   ],
   "source": [
    "plotter = openep.draw_routines.draw_free_boundaries(fb)\n",
    "plotter.background_color = \"White\"\n",
    "plotter.show()"
   ]
  },
  {
   "cell_type": "code",
   "execution_count": 13,
   "metadata": {},
   "outputs": [
    {
     "data": {
      "text/plain": [
       "array([154.77351552, 260.17517408, 331.54873862, 508.78222806,\n",
       "       282.03046195, 949.77322547, 634.81424774])"
      ]
     },
     "execution_count": 13,
     "metadata": {},
     "output_type": "execute_result"
    }
   ],
   "source": [
    "fb.calculate_areas()"
   ]
  },
  {
   "cell_type": "code",
   "execution_count": 27,
   "metadata": {},
   "outputs": [
    {
     "name": "stdout",
     "output_type": "stream",
     "text": [
      "Perimeter is : 49.68522832633961 | Area is: 154.8059\n",
      "Perimeter is : 66.84852078270887 | Area is: 260.2948\n",
      "Perimeter is : 69.46032742297406 | Area is: 331.543\n",
      "Perimeter is : 84.94254954156067 | Area is: 508.7591\n",
      "Perimeter is : 65.79977114058096 | Area is: 282.0847\n",
      "Perimeter is : 122.25388486810391 | Area is: 949.7754\n",
      "Perimeter is : 98.92567586023614 | Area is: 634.8818\n"
     ]
    },
    {
     "name": "stderr",
     "output_type": "stream",
     "text": [
      "/usr/local/Caskroom/miniconda/base/envs/openep/lib/python3.8/site-packages/traittypes/traittypes.py:97: UserWarning: Given trait value dtype \"float64\" does not match required type \"float64\". A coerced copy has been created.\n",
      "  warnings.warn(\n"
     ]
    },
    {
     "data": {
      "application/vnd.jupyter.widget-view+json": {
       "model_id": "20680b4e9aee4e688891ff000ea8dcc0",
       "version_major": 2,
       "version_minor": 0
      },
      "text/plain": [
       "Scene(background_color='#ffffff', camera={'position': [71.80763645292058, -4.5938635470794225, 216.89163645292…"
      ]
     },
     "metadata": {},
     "output_type": "display_data"
    },
    {
     "data": {
      "text/plain": [
       "{'FreeboundaryPoints': [array([[-60.821, -79.357, 122.192],\n",
       "         [-60.195, -79.694, 122.34 ],\n",
       "         [-59.442, -80.109, 122.538],\n",
       "         [-59.263, -80.265, 122.629],\n",
       "         [-58.315, -81.126, 122.733],\n",
       "         [-57.638, -81.769, 123.   ],\n",
       "         [-56.849, -82.438, 123.481],\n",
       "         [-56.615, -82.782, 123.734],\n",
       "         [-56.59 , -83.712, 124.374],\n",
       "         [-56.49 , -83.681, 124.712],\n",
       "         [-56.754, -84.043, 125.185],\n",
       "         [-56.783, -84.184, 125.357],\n",
       "         [-57.055, -85.111, 126.15 ],\n",
       "         [-56.788, -85.197, 127.456],\n",
       "         [-56.758, -85.223, 127.632],\n",
       "         [-56.047, -84.65 , 128.994],\n",
       "         [-55.625, -83.961, 130.121],\n",
       "         [-55.596, -83.743, 130.737],\n",
       "         [-55.744, -82.148, 132.425],\n",
       "         [-55.841, -81.881, 132.668],\n",
       "         [-55.917, -81.69 , 132.851],\n",
       "         [-57.411, -79.802, 132.927],\n",
       "         [-58.067, -79.14 , 132.941],\n",
       "         [-58.525, -78.836, 133.221],\n",
       "         [-59.048, -78.823, 133.636],\n",
       "         [-60.48 , -78.434, 133.924],\n",
       "         [-60.869, -78.392, 134.011],\n",
       "         [-61.636, -78.333, 134.271],\n",
       "         [-61.932, -78.216, 134.332],\n",
       "         [-62.118, -78.078, 134.321],\n",
       "         [-62.509, -77.886, 134.393],\n",
       "         [-62.525, -77.482, 134.146],\n",
       "         [-62.585, -77.163, 133.982],\n",
       "         [-62.471, -76.848, 133.649],\n",
       "         [-62.441, -76.634, 133.375],\n",
       "         [-62.448, -76.53 , 133.243],\n",
       "         [-62.556, -76.194, 132.002],\n",
       "         [-63.011, -75.999, 130.889],\n",
       "         [-63.416, -75.666, 130.182],\n",
       "         [-63.488, -75.612, 130.071],\n",
       "         [-63.604, -75.524, 129.918],\n",
       "         [-63.998, -75.207, 129.402],\n",
       "         [-64.203, -75.043, 129.075],\n",
       "         [-64.392, -74.89 , 128.745],\n",
       "         [-64.764, -74.636, 127.699],\n",
       "         [-64.994, -74.522, 126.767],\n",
       "         [-65.111, -74.508, 126.197],\n",
       "         [-65.28 , -74.48 , 124.993],\n",
       "         [-65.306, -74.461, 124.849],\n",
       "         [-65.332, -74.466, 124.716],\n",
       "         [-65.501, -74.395, 122.893],\n",
       "         [-65.53 , -74.392, 122.607],\n",
       "         [-65.548, -74.428, 122.06 ],\n",
       "         [-65.502, -74.461, 121.167],\n",
       "         [-65.299, -74.601, 120.322],\n",
       "         [-65.102, -74.718, 119.885],\n",
       "         [-64.934, -74.813, 119.536],\n",
       "         [-64.805, -74.961, 119.431],\n",
       "         [-64.564, -75.282, 119.236],\n",
       "         [-64.5  , -75.396, 119.241],\n",
       "         [-64.154, -75.919, 119.335],\n",
       "         [-63.766, -76.47 , 119.425],\n",
       "         [-63.26 , -77.19 , 119.862],\n",
       "         [-63.136, -77.368, 119.973],\n",
       "         [-62.991, -77.581, 120.219],\n",
       "         [-62.636, -78.019, 120.645],\n",
       "         [-62.227, -78.455, 121.099],\n",
       "         [-61.871, -78.742, 121.508],\n",
       "         [-60.945, -79.305, 122.142],\n",
       "         [-60.821, -79.357, 122.192]]),\n",
       "  array([[ 13.343, -91.518, 101.576],\n",
       "         [ 13.067, -90.883, 101.769],\n",
       "         [ 12.972, -90.19 , 102.038],\n",
       "         [ 12.833, -89.428, 102.334],\n",
       "         [ 12.684, -88.715, 102.536],\n",
       "         [ 12.519, -87.645, 102.791],\n",
       "         [ 12.432, -87.195, 102.902],\n",
       "         [ 12.403, -86.995, 102.929],\n",
       "         [ 12.409, -86.801, 102.959],\n",
       "         [ 12.3  , -86.039, 103.112],\n",
       "         [ 12.236, -85.384, 103.184],\n",
       "         [ 12.212, -85.178, 103.212],\n",
       "         [ 12.082, -83.717, 103.39 ],\n",
       "         [ 12.054, -82.971, 103.371],\n",
       "         [ 11.936, -82.395, 103.326],\n",
       "         [ 11.91 , -82.185, 103.321],\n",
       "         [ 11.904, -81.61 , 103.318],\n",
       "         [ 11.89 , -81.1  , 103.278],\n",
       "         [ 11.909, -80.997, 103.285],\n",
       "         [ 12.041, -80.289, 103.288],\n",
       "         [ 12.193, -79.672, 103.289],\n",
       "         [ 12.358, -79.309, 103.344],\n",
       "         [ 12.602, -78.678, 103.368],\n",
       "         [ 12.752, -78.441, 103.43 ],\n",
       "         [ 13.114, -77.793, 103.487],\n",
       "         [ 13.491, -77.234, 103.553],\n",
       "         [ 14.049, -76.403, 103.578],\n",
       "         [ 15.311, -74.677, 103.655],\n",
       "         [ 15.815, -74.041, 103.653],\n",
       "         [ 16.143, -73.567, 103.574],\n",
       "         [ 16.955, -72.873, 103.577],\n",
       "         [ 17.155, -72.741, 103.582],\n",
       "         [ 17.221, -72.623, 103.559],\n",
       "         [ 17.523, -72.182, 103.371],\n",
       "         [ 17.797, -71.765, 103.161],\n",
       "         [ 17.897, -71.642, 103.132],\n",
       "         [ 17.923, -71.559, 103.082],\n",
       "         [ 18.419, -70.728, 102.55 ],\n",
       "         [ 18.541, -70.43 , 102.321],\n",
       "         [ 19.173, -69.688, 101.881],\n",
       "         [ 19.578, -69.218, 101.481],\n",
       "         [ 20.124, -68.731, 101.026],\n",
       "         [ 20.877, -68.432, 100.786],\n",
       "         [ 21.135, -68.308, 100.669],\n",
       "         [ 21.348, -68.359, 100.719],\n",
       "         [ 21.585, -68.304, 100.612],\n",
       "         [ 21.68 , -68.397, 100.71 ],\n",
       "         [ 21.77 , -68.477, 100.794],\n",
       "         [ 21.804, -68.608, 100.914],\n",
       "         [ 21.836, -68.925, 101.149],\n",
       "         [ 21.964, -69.412, 101.43 ],\n",
       "         [ 21.972, -70.006, 101.688],\n",
       "         [ 21.89 , -70.436, 101.826],\n",
       "         [ 21.893, -70.795, 101.883],\n",
       "         [ 21.836, -71.227, 101.937],\n",
       "         [ 21.826, -72.136, 102.016],\n",
       "         [ 21.829, -72.178, 102.014],\n",
       "         [ 21.839, -72.227, 102.014],\n",
       "         [ 21.968, -73.478, 102.119],\n",
       "         [ 22.096, -73.938, 102.182],\n",
       "         [ 22.292, -74.843, 102.294],\n",
       "         [ 22.668, -75.847, 102.512],\n",
       "         [ 22.784, -76.195, 102.607],\n",
       "         [ 23.554, -77.796, 103.214],\n",
       "         [ 24.23 , -79.293, 104.097],\n",
       "         [ 24.38 , -79.726, 104.405],\n",
       "         [ 24.674, -80.514, 104.971],\n",
       "         [ 24.835, -80.963, 105.262],\n",
       "         [ 24.916, -81.306, 105.418],\n",
       "         [ 25.004, -81.768, 105.648],\n",
       "         [ 25.16 , -82.204, 105.944],\n",
       "         [ 25.222, -82.445, 106.024],\n",
       "         [ 25.232, -83.488, 106.218],\n",
       "         [ 25.234, -83.615, 106.244],\n",
       "         [ 25.187, -83.803, 106.265],\n",
       "         [ 25.033, -84.84 , 106.226],\n",
       "         [ 24.936, -85.163, 106.19 ],\n",
       "         [ 24.763, -86.011, 106.127],\n",
       "         [ 24.722, -86.306, 106.08 ],\n",
       "         [ 24.69 , -86.423, 106.066],\n",
       "         [ 24.603, -86.7  , 106.018],\n",
       "         [ 24.316, -87.753, 105.826],\n",
       "         [ 24.092, -88.498, 105.649],\n",
       "         [ 23.899, -89.183, 105.465],\n",
       "         [ 23.706, -89.776, 105.286],\n",
       "         [ 23.49 , -90.217, 105.113],\n",
       "         [ 23.043, -91.417, 104.659],\n",
       "         [ 22.973, -91.587, 104.611],\n",
       "         [ 22.899, -91.742, 104.563],\n",
       "         [ 22.53 , -92.741, 104.343],\n",
       "         [ 22.291, -93.23 , 104.178],\n",
       "         [ 21.944, -93.801, 103.956],\n",
       "         [ 21.295, -94.335, 103.532],\n",
       "         [ 21.082, -94.502, 103.396],\n",
       "         [ 20.673, -94.574, 103.127],\n",
       "         [ 20.171, -94.669, 102.81 ],\n",
       "         [ 19.684, -94.547, 102.55 ],\n",
       "         [ 18.777, -94.522, 102.111],\n",
       "         [ 18.423, -94.399, 102.008],\n",
       "         [ 17.599, -94.082, 101.833],\n",
       "         [ 16.951, -93.824, 101.727],\n",
       "         [ 16.686, -93.69 , 101.698],\n",
       "         [ 16.557, -93.611, 101.689],\n",
       "         [ 16.34 , -93.498, 101.676],\n",
       "         [ 16.002, -93.316, 101.66 ],\n",
       "         [ 15.784, -93.216, 101.644],\n",
       "         [ 15.402, -93.053, 101.612],\n",
       "         [ 15.217, -92.956, 101.604],\n",
       "         [ 14.225, -92.456, 101.506],\n",
       "         [ 13.957, -92.205, 101.518],\n",
       "         [ 13.343, -91.518, 101.576]]),\n",
       "  array([[ -51.629,  -95.629,  123.757],\n",
       "         [ -52.656,  -93.964,  123.482],\n",
       "         [ -53.237,  -92.897,  123.168],\n",
       "         [ -53.526,  -91.917,  122.705],\n",
       "         [ -53.745,  -91.015,  122.148],\n",
       "         [ -53.921,  -89.906,  121.456],\n",
       "         [ -54.029,  -89.331,  121.085],\n",
       "         [ -54.113,  -88.48 ,  120.462],\n",
       "         [ -54.185,  -87.804,  120.102],\n",
       "         [ -54.21 ,  -87.415,  119.839],\n",
       "         [ -54.248,  -86.554,  119.204],\n",
       "         [ -54.24 ,  -86.253,  118.962],\n",
       "         [ -54.228,  -85.678,  118.469],\n",
       "         [ -54.141,  -85.214,  118.038],\n",
       "         [ -53.995,  -84.54 ,  117.336],\n",
       "         [ -53.941,  -84.227,  117.008],\n",
       "         [ -54.056,  -83.836,  116.703],\n",
       "         [ -53.724,  -82.675,  115.546],\n",
       "         [ -53.555,  -81.756,  114.416],\n",
       "         [ -53.224,  -81.531,  113.858],\n",
       "         [ -52.989,  -81.171,  113.177],\n",
       "         [ -52.821,  -81.071,  112.907],\n",
       "         [ -52.57 ,  -81.016,  112.596],\n",
       "         [ -51.41 ,  -81.129,  111.498],\n",
       "         [ -51.021,  -81.199,  111.089],\n",
       "         [ -50.679,  -81.384,  110.887],\n",
       "         [ -49.396,  -82.673,  109.854],\n",
       "         [ -48.954,  -84.377,  109.145],\n",
       "         [ -48.867,  -84.672,  109.047],\n",
       "         [ -48.833,  -84.789,  109.009],\n",
       "         [ -48.795,  -84.928,  108.966],\n",
       "         [ -48.537,  -86.157,  108.705],\n",
       "         [ -48.458,  -86.542,  108.621],\n",
       "         [ -48.238,  -87.55 ,  108.402],\n",
       "         [ -48.078,  -88.249,  108.287],\n",
       "         [ -47.858,  -89.364,  108.172],\n",
       "         [ -47.715,  -89.903,  108.126],\n",
       "         [ -47.557,  -90.538,  108.114],\n",
       "         [ -47.305,  -91.489,  108.121],\n",
       "         [ -47.042,  -92.599,  108.182],\n",
       "         [ -46.966,  -92.931,  108.205],\n",
       "         [ -46.94 ,  -93.051,  108.221],\n",
       "         [ -46.915,  -93.156,  108.231],\n",
       "         [ -46.828,  -93.375,  108.247],\n",
       "         [ -46.586,  -94.538,  108.289],\n",
       "         [ -46.458,  -95.287,  108.424],\n",
       "         [ -46.382,  -95.66 ,  108.495],\n",
       "         [ -46.355,  -95.815,  108.505],\n",
       "         [ -46.315,  -96.044,  108.536],\n",
       "         [ -46.092,  -97.241,  108.772],\n",
       "         [ -46.041,  -97.511,  108.834],\n",
       "         [ -45.882,  -98.517,  109.088],\n",
       "         [ -45.863,  -98.801,  109.182],\n",
       "         [ -45.661,  -99.994,  109.639],\n",
       "         [ -45.651, -100.149,  109.71 ],\n",
       "         [ -45.594, -100.963,  110.058],\n",
       "         [ -45.571, -101.542,  110.334],\n",
       "         [ -45.53 , -102.012,  110.539],\n",
       "         [ -45.525, -102.463,  110.76 ],\n",
       "         [ -45.556, -103.095,  111.167],\n",
       "         [ -45.666, -104.158,  111.996],\n",
       "         [ -45.676, -104.285,  112.083],\n",
       "         [ -45.88 , -105.809,  113.352],\n",
       "         [ -45.902, -106.077,  113.602],\n",
       "         [ -46.036, -107.218,  114.836],\n",
       "         [ -46.117, -107.585,  115.506],\n",
       "         [ -46.512, -107.778,  116.577],\n",
       "         [ -46.629, -107.813,  116.898],\n",
       "         [ -46.947, -107.531,  117.381],\n",
       "         [ -47.328, -107.189,  117.973],\n",
       "         [ -47.498, -106.847,  118.156],\n",
       "         [ -47.897, -105.77 ,  119.111],\n",
       "         [ -47.93 , -105.549,  119.242],\n",
       "         [ -48.028, -104.925,  119.665],\n",
       "         [ -48.159, -104.185,  120.198],\n",
       "         [ -48.228, -103.997,  120.36 ],\n",
       "         [ -48.361, -103.498,  120.708],\n",
       "         [ -48.551, -102.584,  121.27 ],\n",
       "         [ -48.89 , -101.461,  121.972],\n",
       "         [ -48.972, -101.159,  122.161],\n",
       "         [ -49.015, -101.028,  122.218],\n",
       "         [ -49.066, -100.902,  122.278],\n",
       "         [ -49.336, -100.18 ,  122.621],\n",
       "         [ -49.644,  -99.357,  122.987],\n",
       "         [ -50.181,  -98.147,  123.383],\n",
       "         [ -50.729,  -97.119,  123.588],\n",
       "         [ -51.629,  -95.629,  123.757]]),\n",
       "  array([[-60.252, -66.716, 131.263],\n",
       "         [-60.742, -67.25 , 131.757],\n",
       "         [-60.821, -67.616, 132.123],\n",
       "         [-60.913, -68.211, 132.826],\n",
       "         [-60.955, -68.665, 133.253],\n",
       "         [-60.952, -68.91 , 133.521],\n",
       "         [-61.004, -69.766, 134.569],\n",
       "         [-61.056, -70.111, 135.094],\n",
       "         [-61.274, -70.89 , 136.306],\n",
       "         [-61.262, -71.352, 137.245],\n",
       "         [-61.22 , -72.054, 138.877],\n",
       "         [-61.239, -72.185, 139.108],\n",
       "         [-61.243, -72.288, 139.293],\n",
       "         [-61.433, -73.024, 141.686],\n",
       "         [-61.514, -73.149, 141.989],\n",
       "         [-61.79 , -73.976, 143.759],\n",
       "         [-61.957, -74.332, 144.212],\n",
       "         [-62.011, -74.624, 144.593],\n",
       "         [-61.98 , -74.908, 144.901],\n",
       "         [-61.773, -75.095, 145.287],\n",
       "         [-61.73 , -75.256, 145.505],\n",
       "         [-61.671, -75.289, 145.592],\n",
       "         [-60.502, -75.41 , 146.605],\n",
       "         [-58.915, -75.031, 147.506],\n",
       "         [-58.519, -74.927, 147.692],\n",
       "         [-57.108, -74.661, 148.52 ],\n",
       "         [-56.268, -74.516, 148.971],\n",
       "         [-55.932, -74.461, 149.187],\n",
       "         [-54.624, -74.035, 149.919],\n",
       "         [-52.446, -72.859, 150.638],\n",
       "         [-52.323, -72.753, 150.636],\n",
       "         [-51.986, -72.501, 150.69 ],\n",
       "         [-49.995, -71.008, 150.977],\n",
       "         [-49.364, -70.586, 151.299],\n",
       "         [-49.055, -70.403, 151.364],\n",
       "         [-48.313, -69.807, 151.397],\n",
       "         [-47.815, -69.393, 151.456],\n",
       "         [-47.397, -69.059, 151.433],\n",
       "         [-46.748, -68.537, 151.247],\n",
       "         [-46.465, -68.314, 151.181],\n",
       "         [-46.392, -68.258, 151.198],\n",
       "         [-46.289, -68.18 , 151.176],\n",
       "         [-45.973, -67.915, 151.07 ],\n",
       "         [-45.307, -67.28 , 150.803],\n",
       "         [-45.028, -67.011, 150.698],\n",
       "         [-44.68 , -66.614, 150.551],\n",
       "         [-43.995, -65.806, 150.255],\n",
       "         [-43.026, -64.567, 149.941],\n",
       "         [-42.467, -63.765, 149.715],\n",
       "         [-42.265, -63.422, 149.566],\n",
       "         [-41.395, -62.48 , 149.315],\n",
       "         [-40.734, -61.763, 149.171],\n",
       "         [-39.78 , -60.782, 149.03 ],\n",
       "         [-39.529, -60.486, 148.949],\n",
       "         [-38.964, -59.853, 148.768],\n",
       "         [-38.923, -59.803, 148.761],\n",
       "         [-38.227, -58.484, 147.674],\n",
       "         [-38.728, -57.755, 145.911],\n",
       "         [-38.76 , -57.744, 145.834],\n",
       "         [-38.798, -57.723, 145.733],\n",
       "         [-39.401, -57.604, 144.407],\n",
       "         [-39.859, -57.458, 143.301],\n",
       "         [-40.306, -57.318, 142.295],\n",
       "         [-40.59 , -57.229, 141.755],\n",
       "         [-41.258, -56.92 , 140.305],\n",
       "         [-41.553, -56.798, 139.69 ],\n",
       "         [-42.297, -56.143, 137.689],\n",
       "         [-42.429, -56.083, 137.361],\n",
       "         [-43.002, -55.801, 135.487],\n",
       "         [-43.535, -55.931, 134.762],\n",
       "         [-45.075, -56.447, 133.639],\n",
       "         [-45.207, -56.506, 133.439],\n",
       "         [-45.302, -56.536, 133.427],\n",
       "         [-45.505, -56.648, 133.385],\n",
       "         [-46.685, -57.358, 133.055],\n",
       "         [-47.053, -57.492, 132.871],\n",
       "         [-47.475, -57.836, 132.738],\n",
       "         [-47.774, -58.081, 132.645],\n",
       "         [-48.183, -58.453, 132.533],\n",
       "         [-49.068, -59.327, 132.253],\n",
       "         [-49.452, -59.682, 132.136],\n",
       "         [-49.894, -60.058, 131.983],\n",
       "         [-50.465, -60.574, 131.777],\n",
       "         [-51.281, -61.469, 131.652],\n",
       "         [-51.36 , -61.555, 131.64 ],\n",
       "         [-51.671, -61.848, 131.618],\n",
       "         [-52.286, -62.537, 131.469],\n",
       "         [-52.69 , -62.901, 131.374],\n",
       "         [-53.462, -63.581, 131.23 ],\n",
       "         [-54.884, -64.532, 130.926],\n",
       "         [-55.16 , -64.728, 130.858],\n",
       "         [-55.398, -64.87 , 130.833],\n",
       "         [-57.318, -65.77 , 130.611],\n",
       "         [-57.906, -66.027, 130.581],\n",
       "         [-59.02 , -66.266, 130.767],\n",
       "         [-59.922, -66.517, 131.117],\n",
       "         [-60.152, -66.6  , 131.178],\n",
       "         [-60.252, -66.716, 131.263]]),\n",
       "  array([[  8.007, -55.182, 115.542],\n",
       "         [  7.901, -56.009, 114.923],\n",
       "         [  7.892, -56.11 , 114.835],\n",
       "         [  7.938, -56.87 , 114.297],\n",
       "         [  7.969, -57.102, 114.167],\n",
       "         [  8.355, -58.102, 113.459],\n",
       "         [  8.645, -58.577, 113.141],\n",
       "         [  9.45 , -59.72 , 112.222],\n",
       "         [  9.661, -59.981, 111.999],\n",
       "         [  9.781, -60.109, 111.912],\n",
       "         [ 10.021, -60.421, 111.69 ],\n",
       "         [ 10.621, -60.896, 111.266],\n",
       "         [ 11.512, -61.584, 110.736],\n",
       "         [ 11.737, -61.715, 110.612],\n",
       "         [ 12.016, -61.875, 110.44 ],\n",
       "         [ 13.131, -62.452, 109.779],\n",
       "         [ 13.827, -62.735, 109.327],\n",
       "         [ 14.942, -63.048, 108.51 ],\n",
       "         [ 15.532, -63.193, 108.097],\n",
       "         [ 17.102, -63.251, 107.052],\n",
       "         [ 17.443, -63.212, 106.887],\n",
       "         [ 17.925, -63.171, 106.675],\n",
       "         [ 18.974, -63.056, 106.163],\n",
       "         [ 19.905, -63.145, 105.861],\n",
       "         [ 20.382, -63.185, 105.681],\n",
       "         [ 20.549, -63.228, 105.661],\n",
       "         [ 20.788, -63.336, 105.71 ],\n",
       "         [ 21.468, -63.561, 105.782],\n",
       "         [ 21.992, -63.819, 105.995],\n",
       "         [ 22.414, -64.306, 106.741],\n",
       "         [ 22.586, -64.588, 107.201],\n",
       "         [ 23.463, -65.67 , 108.761],\n",
       "         [ 23.532, -65.696, 108.839],\n",
       "         [ 23.64 , -65.735, 108.96 ],\n",
       "         [ 23.899, -65.923, 109.293],\n",
       "         [ 25.173, -66.481, 110.829],\n",
       "         [ 25.215, -66.51 , 110.896],\n",
       "         [ 25.691, -66.861, 111.495],\n",
       "         [ 25.712, -66.876, 111.52 ],\n",
       "         [ 25.963, -67.013, 111.971],\n",
       "         [ 26.265, -67.047, 112.529],\n",
       "         [ 26.43 , -66.955, 112.967],\n",
       "         [ 26.33 , -66.582, 113.717],\n",
       "         [ 26.219, -66.444, 113.89 ],\n",
       "         [ 26.016, -66.094, 114.395],\n",
       "         [ 25.86 , -65.423, 115.365],\n",
       "         [ 25.789, -64.997, 115.74 ],\n",
       "         [ 25.687, -64.337, 116.105],\n",
       "         [ 26.063, -63.968, 116.887],\n",
       "         [ 26.141, -63.626, 117.482],\n",
       "         [ 26.167, -63.397, 117.846],\n",
       "         [ 25.954, -62.909, 118.497],\n",
       "         [ 25.773, -62.054, 119.646],\n",
       "         [ 25.933, -61.582, 120.035],\n",
       "         [ 25.392, -61.296, 120.032],\n",
       "         [ 24.926, -60.998, 120.299],\n",
       "         [ 24.266, -60.721, 120.493],\n",
       "         [ 23.748, -60.45 , 120.598],\n",
       "         [ 23.135, -60.126, 120.586],\n",
       "         [ 22.746, -59.782, 120.667],\n",
       "         [ 22.533, -59.514, 120.76 ],\n",
       "         [ 22.271, -59.324, 120.808],\n",
       "         [ 21.367, -58.46 , 121.065],\n",
       "         [ 21.029, -58.269, 121.051],\n",
       "         [ 20.648, -57.992, 121.078],\n",
       "         [ 20.134, -57.703, 120.954],\n",
       "         [ 19.625, -57.459, 120.765],\n",
       "         [ 19.347, -57.263, 120.722],\n",
       "         [ 18.838, -56.992, 120.59 ],\n",
       "         [ 18.131, -56.606, 120.513],\n",
       "         [ 18.042, -56.572, 120.519],\n",
       "         [ 17.25 , -56.125, 120.695],\n",
       "         [ 16.564, -55.696, 120.935],\n",
       "         [ 15.686, -55.234, 121.057],\n",
       "         [ 14.465, -54.651, 121.096],\n",
       "         [ 14.421, -54.638, 121.099],\n",
       "         [ 14.394, -54.622, 121.108],\n",
       "         [ 14.316, -54.588, 121.101],\n",
       "         [ 13.278, -54.141, 121.137],\n",
       "         [ 12.766, -53.953, 121.103],\n",
       "         [ 12.454, -53.816, 121.13 ],\n",
       "         [ 11.382, -53.45 , 121.095],\n",
       "         [ 11.06 , -53.403, 121.029],\n",
       "         [ 10.74 , -53.291, 121.032],\n",
       "         [  9.644, -52.877, 120.705],\n",
       "         [  9.165, -52.647, 120.413],\n",
       "         [  8.648, -52.349, 119.944],\n",
       "         [  8.443, -52.194, 119.74 ],\n",
       "         [  8.213, -52.335, 119.132],\n",
       "         [  8.16 , -52.34 , 118.902],\n",
       "         [  8.159, -52.348, 118.861],\n",
       "         [  8.183, -52.427, 118.694],\n",
       "         [  8.103, -53.14 , 117.506],\n",
       "         [  8.106, -53.296, 117.335],\n",
       "         [  8.116, -53.48 , 117.164],\n",
       "         [  8.007, -55.182, 115.542]]),\n",
       "  array([[  29.624, -103.35 ,  147.753],\n",
       "         [  30.362, -102.752,  144.871],\n",
       "         [  31.933, -102.336,  141.915],\n",
       "         [  31.992, -102.294,  141.867],\n",
       "         [  32.1  , -102.244,  141.761],\n",
       "         [  33.327, -101.907,  140.485],\n",
       "         [  33.811, -101.734,  140.016],\n",
       "         [  34.54 , -101.589,  139.445],\n",
       "         [  34.914, -101.348,  139.009],\n",
       "         [  35.105, -101.256,  138.824],\n",
       "         [  35.525, -100.987,  138.416],\n",
       "         [  35.853, -100.432,  137.891],\n",
       "         [  35.937, -100.324,  137.75 ],\n",
       "         [  35.982, -100.227,  137.666],\n",
       "         [  36.637,  -99.258,  136.818],\n",
       "         [  37.693,  -97.888,  136.083],\n",
       "         [  38.374,  -96.82 ,  135.557],\n",
       "         [  38.642,  -96.414,  135.452],\n",
       "         [  38.703,  -96.307,  135.425],\n",
       "         [  38.961,  -95.789,  135.33 ],\n",
       "         [  39.355,  -95.014,  135.221],\n",
       "         [  39.646,  -94.023,  135.212],\n",
       "         [  39.861,  -93.511,  135.232],\n",
       "         [  40.291,  -92.202,  135.525],\n",
       "         [  40.51 ,  -91.538,  135.705],\n",
       "         [  40.742,  -90.255,  136.115],\n",
       "         [  40.801,  -90.133,  136.178],\n",
       "         [  40.826,  -89.954,  136.256],\n",
       "         [  40.841,  -89.813,  136.307],\n",
       "         [  40.833,  -89.703,  136.347],\n",
       "         [  40.83 ,  -89.552,  136.414],\n",
       "         [  40.824,  -89.391,  136.485],\n",
       "         [  40.809,  -88.578,  136.846],\n",
       "         [  40.785,  -88.213,  137.015],\n",
       "         [  40.641,  -87.515,  137.357],\n",
       "         [  40.603,  -87.294,  137.468],\n",
       "         [  40.304,  -86.307,  137.933],\n",
       "         [  40.288,  -86.248,  137.975],\n",
       "         [  40.277,  -86.23 ,  137.989],\n",
       "         [  40.255,  -86.156,  138.022],\n",
       "         [  39.991,  -85.362,  138.51 ],\n",
       "         [  39.928,  -85.216,  138.606],\n",
       "         [  39.697,  -84.218,  139.265],\n",
       "         [  39.612,  -84.053,  139.394],\n",
       "         [  39.235,  -82.783,  140.301],\n",
       "         [  39.099,  -82.493,  140.56 ],\n",
       "         [  38.8  ,  -81.632,  141.345],\n",
       "         [  38.719,  -81.422,  141.559],\n",
       "         [  38.604,  -80.951,  142.014],\n",
       "         [  38.584,  -80.489,  142.432],\n",
       "         [  38.473,  -79.724,  143.123],\n",
       "         [  38.341,  -79.153,  143.681],\n",
       "         [  38.452,  -77.978,  144.542],\n",
       "         [  38.443,  -77.72 ,  144.739],\n",
       "         [  38.451,  -77.628,  144.793],\n",
       "         [  38.473,  -77.475,  144.878],\n",
       "         [  39.223,  -74.938,  146.263],\n",
       "         [  39.336,  -74.623,  146.375],\n",
       "         [  39.464,  -74.114,  146.612],\n",
       "         [  40.027,  -72.735,  147.306],\n",
       "         [  40.281,  -71.759,  147.954],\n",
       "         [  40.428,  -71.379,  148.195],\n",
       "         [  40.44 ,  -71.161,  148.427],\n",
       "         [  40.445,  -70.168,  150.102],\n",
       "         [  40.39 ,  -70.03 ,  150.423],\n",
       "         [  40.229,  -69.875,  150.987],\n",
       "         [  39.706,  -69.303,  152.85 ],\n",
       "         [  39.293,  -68.948,  153.799],\n",
       "         [  38.706,  -68.444,  155.128],\n",
       "         [  38.339,  -68.207,  155.788],\n",
       "         [  37.956,  -67.937,  156.397],\n",
       "         [  37.401,  -67.857,  156.828],\n",
       "         [  37.021,  -67.943,  156.933],\n",
       "         [  36.589,  -68.129,  157.007],\n",
       "         [  36.24 ,  -68.478,  156.978],\n",
       "         [  36.03 ,  -68.923,  156.996],\n",
       "         [  35.857,  -69.4  ,  157.008],\n",
       "         [  35.724,  -69.945,  157.101],\n",
       "         [  35.26 ,  -70.842,  157.07 ],\n",
       "         [  35.005,  -71.225,  157.025],\n",
       "         [  34.548,  -71.779,  156.99 ],\n",
       "         [  34.032,  -72.302,  157.023],\n",
       "         [  33.278,  -72.974,  157.075],\n",
       "         [  32.732,  -73.438,  157.135],\n",
       "         [  31.416,  -74.377,  157.508],\n",
       "         [  31.024,  -74.701,  157.626],\n",
       "         [  30.801,  -74.863,  157.732],\n",
       "         [  28.914,  -76.072,  158.488],\n",
       "         [  28.429,  -76.418,  158.759],\n",
       "         [  27.482,  -77.159,  159.333],\n",
       "         [  27.274,  -77.308,  159.442],\n",
       "         [  27.192,  -77.366,  159.487],\n",
       "         [  26.453,  -78.151,  160.036],\n",
       "         [  26.021,  -78.649,  160.441],\n",
       "         [  25.941,  -78.766,  160.511],\n",
       "         [  25.585,  -79.294,  160.878],\n",
       "         [  25.012,  -80.117,  161.379],\n",
       "         [  24.773,  -80.526,  161.646],\n",
       "         [  24.495,  -80.987,  161.821],\n",
       "         [  24.015,  -81.964,  162.089],\n",
       "         [  23.445,  -83.116,  162.099],\n",
       "         [  22.853,  -84.75 ,  161.903],\n",
       "         [  22.693,  -84.797,  161.752],\n",
       "         [  22.295,  -85.415,  161.482],\n",
       "         [  22.096,  -85.711,  161.372],\n",
       "         [  21.785,  -86.202,  161.249],\n",
       "         [  21.602,  -86.531,  161.207],\n",
       "         [  21.534,  -87.204,  161.318],\n",
       "         [  21.502,  -87.573,  161.338],\n",
       "         [  21.624,  -88.368,  161.45 ],\n",
       "         [  21.784,  -89.209,  161.601],\n",
       "         [  21.868,  -89.449,  161.712],\n",
       "         [  21.978,  -89.923,  161.897],\n",
       "         [  22.195,  -91.175,  162.292],\n",
       "         [  22.291,  -91.954,  162.624],\n",
       "         [  22.337,  -92.53 ,  162.844],\n",
       "         [  22.37 ,  -93.069,  163.013],\n",
       "         [  22.367,  -93.566,  163.241],\n",
       "         [  22.354,  -93.856,  163.284],\n",
       "         [  22.262,  -95.291,  163.352],\n",
       "         [  22.237,  -95.45 ,  163.374],\n",
       "         [  22.23 ,  -95.545,  163.37 ],\n",
       "         [  22.219,  -95.693,  163.357],\n",
       "         [  22.145,  -96.841,  163.188],\n",
       "         [  22.139,  -96.919,  163.174],\n",
       "         [  22.094,  -97.608,  163.005],\n",
       "         [  22.091,  -98.22 ,  162.809],\n",
       "         [  22.128,  -99.453,  162.522],\n",
       "         [  22.144,  -99.633,  162.504],\n",
       "         [  22.261, -101.08 ,  162.263],\n",
       "         [  22.324, -101.841,  162.227],\n",
       "         [  22.462, -102.826,  162.094],\n",
       "         [  22.548, -103.409,  162.041],\n",
       "         [  22.651, -104.024,  161.984],\n",
       "         [  22.677, -104.207,  161.962],\n",
       "         [  22.934, -105.194,  161.622],\n",
       "         [  22.946, -105.232,  161.604],\n",
       "         [  22.958, -105.252,  161.589],\n",
       "         [  23.481, -105.853,  160.945],\n",
       "         [  23.715, -106.081,  160.681],\n",
       "         [  24.306, -105.992,  159.702],\n",
       "         [  24.469, -105.958,  159.398],\n",
       "         [  24.49 , -105.929,  159.337],\n",
       "         [  24.771, -105.942,  158.893],\n",
       "         [  25.371, -105.937,  157.85 ],\n",
       "         [  25.77 , -106.059,  157.178],\n",
       "         [  27.219, -106.622,  154.901],\n",
       "         [  27.441, -106.694,  154.555],\n",
       "         [  27.562, -106.753,  154.376],\n",
       "         [  27.633, -106.795,  154.275],\n",
       "         [  27.946, -106.959,  153.92 ],\n",
       "         [  28.704, -107.386,  152.877],\n",
       "         [  29.053, -107.532,  152.395],\n",
       "         [  29.114, -107.669,  152.119],\n",
       "         [  29.228, -107.489,  151.853],\n",
       "         [  29.265, -107.416,  151.807],\n",
       "         [  29.34 , -106.776,  151.552],\n",
       "         [  29.251, -106.178,  151.355],\n",
       "         [  29.185, -105.091,  150.463],\n",
       "         [  29.022, -104.695,  150.169],\n",
       "         [  28.975, -104.614,  150.122],\n",
       "         [  29.052, -104.595,  150.024],\n",
       "         [  29.624, -103.35 ,  147.753]]),\n",
       "  array([[ 37.247, -55.208, 151.487],\n",
       "         [ 36.336, -53.823, 151.826],\n",
       "         [ 35.934, -53.273, 151.826],\n",
       "         [ 35.875, -53.17 , 151.852],\n",
       "         [ 35.649, -52.824, 152.09 ],\n",
       "         [ 35.153, -52.335, 152.188],\n",
       "         [ 34.579, -51.959, 152.389],\n",
       "         [ 34.389, -51.862, 152.393],\n",
       "         [ 34.02 , -51.724, 152.335],\n",
       "         [ 33.566, -51.657, 152.018],\n",
       "         [ 33.099, -51.554, 151.816],\n",
       "         [ 32.751, -51.5  , 151.501],\n",
       "         [ 31.864, -51.405, 150.795],\n",
       "         [ 31.398, -51.334, 150.427],\n",
       "         [ 30.519, -51.189, 149.963],\n",
       "         [ 30.225, -51.049, 149.759],\n",
       "         [ 30.095, -50.997, 149.692],\n",
       "         [ 28.835, -50.57 , 149.065],\n",
       "         [ 28.678, -50.516, 148.98 ],\n",
       "         [ 28.454, -50.434, 148.882],\n",
       "         [ 27.114, -49.958, 148.213],\n",
       "         [ 25.569, -49.414, 147.37 ],\n",
       "         [ 23.882, -48.781, 146.529],\n",
       "         [ 23.491, -48.62 , 146.372],\n",
       "         [ 22.235, -48.167, 145.748],\n",
       "         [ 21.359, -47.876, 145.227],\n",
       "         [ 20.931, -47.725, 144.956],\n",
       "         [ 20.861, -47.703, 144.903],\n",
       "         [ 20.764, -47.674, 144.804],\n",
       "         [ 20.505, -47.621, 144.57 ],\n",
       "         [ 19.428, -47.363, 143.643],\n",
       "         [ 18.888, -47.222, 143.16 ],\n",
       "         [ 18.406, -47.122, 142.674],\n",
       "         [ 16.852, -46.84 , 141.102],\n",
       "         [ 16.653, -46.811, 140.902],\n",
       "         [ 16.578, -46.825, 140.793],\n",
       "         [ 15.971, -46.908, 139.87 ],\n",
       "         [ 15.72 , -46.901, 139.392],\n",
       "         [ 15.712, -46.922, 139.342],\n",
       "         [ 15.632, -47.156, 138.804],\n",
       "         [ 15.73 , -47.753, 137.959],\n",
       "         [ 16.124, -48.7  , 136.717],\n",
       "         [ 16.316, -49.138, 136.278],\n",
       "         [ 16.634, -49.976, 135.545],\n",
       "         [ 16.661, -50.065, 135.466],\n",
       "         [ 16.742, -50.3  , 135.312],\n",
       "         [ 17.293, -51.364, 134.516],\n",
       "         [ 17.424, -51.705, 134.273],\n",
       "         [ 17.811, -52.599, 133.719],\n",
       "         [ 17.992, -53.04 , 133.455],\n",
       "         [ 18.12 , -53.345, 133.278],\n",
       "         [ 18.276, -53.615, 133.113],\n",
       "         [ 18.479, -53.969, 132.892],\n",
       "         [ 19.125, -55.032, 132.235],\n",
       "         [ 19.381, -55.385, 132.012],\n",
       "         [ 19.488, -55.541, 131.914],\n",
       "         [ 19.723, -55.871, 131.606],\n",
       "         [ 20.324, -56.54 , 131.047],\n",
       "         [ 20.604, -56.771, 130.862],\n",
       "         [ 21.157, -57.115, 130.36 ],\n",
       "         [ 21.43 , -57.256, 130.145],\n",
       "         [ 21.696, -57.386, 130.049],\n",
       "         [ 21.996, -57.529, 129.929],\n",
       "         [ 23.205, -58.157, 129.229],\n",
       "         [ 23.743, -58.519, 129.084],\n",
       "         [ 24.83 , -59.142, 128.637],\n",
       "         [ 25.328, -59.369, 128.358],\n",
       "         [ 25.671, -59.546, 128.216],\n",
       "         [ 26.229, -59.909, 128.122],\n",
       "         [ 26.653, -60.175, 128.003],\n",
       "         [ 27.19 , -60.463, 127.724],\n",
       "         [ 27.777, -60.773, 127.57 ],\n",
       "         [ 28.55 , -61.145, 127.476],\n",
       "         [ 28.66 , -61.191, 127.447],\n",
       "         [ 29.172, -61.35 , 127.264],\n",
       "         [ 29.755, -61.516, 127.049],\n",
       "         [ 29.833, -61.524, 126.992],\n",
       "         [ 30.147, -61.657, 126.937],\n",
       "         [ 31.506, -61.888, 126.633],\n",
       "         [ 32.016, -61.981, 126.51 ],\n",
       "         [ 32.619, -62.108, 126.352],\n",
       "         [ 33.034, -62.224, 126.26 ],\n",
       "         [ 33.35 , -62.312, 126.178],\n",
       "         [ 34.345, -62.624, 125.984],\n",
       "         [ 35.471, -63.041, 125.985],\n",
       "         [ 36.046, -63.195, 125.924],\n",
       "         [ 36.483, -63.386, 126.034],\n",
       "         [ 37.306, -63.765, 126.193],\n",
       "         [ 37.808, -64.037, 126.339],\n",
       "         [ 38.711, -64.68 , 126.773],\n",
       "         [ 38.907, -64.834, 126.821],\n",
       "         [ 39.011, -64.939, 126.869],\n",
       "         [ 39.956, -66.003, 127.345],\n",
       "         [ 40.042, -66.141, 127.397],\n",
       "         [ 40.084, -66.222, 127.453],\n",
       "         [ 40.303, -66.707, 128.066],\n",
       "         [ 40.487, -67.045, 128.442],\n",
       "         [ 40.487, -67.103, 128.564],\n",
       "         [ 40.522, -67.296, 129.038],\n",
       "         [ 40.521, -67.365, 129.242],\n",
       "         [ 40.418, -67.444, 129.83 ],\n",
       "         [ 40.307, -67.493, 130.372],\n",
       "         [ 39.97 , -67.382, 130.869],\n",
       "         [ 39.542, -67.112, 131.94 ],\n",
       "         [ 39.386, -67.045, 132.327],\n",
       "         [ 39.266, -66.96 , 132.414],\n",
       "         [ 38.995, -66.767, 132.907],\n",
       "         [ 38.702, -66.55 , 133.723],\n",
       "         [ 38.456, -66.367, 134.407],\n",
       "         [ 38.442, -66.338, 134.517],\n",
       "         [ 38.495, -66.194, 135.638],\n",
       "         [ 38.547, -66.182, 135.902],\n",
       "         [ 38.483, -66.043, 136.256],\n",
       "         [ 38.419, -65.667, 137.389],\n",
       "         [ 38.265, -65.337, 138.188],\n",
       "         [ 38.29 , -65.278, 138.221],\n",
       "         [ 38.151, -64.97 , 138.922],\n",
       "         [ 38.147, -64.932, 138.996],\n",
       "         [ 38.113, -64.692, 139.479],\n",
       "         [ 38.381, -64.692, 139.95 ],\n",
       "         [ 38.53 , -64.645, 140.332],\n",
       "         [ 38.678, -64.544, 140.834],\n",
       "         [ 39.067, -64.288, 141.762],\n",
       "         [ 39.378, -64.168, 142.256],\n",
       "         [ 39.944, -64.114, 142.941],\n",
       "         [ 40.531, -64.114, 143.864],\n",
       "         [ 41.001, -64.254, 144.667],\n",
       "         [ 41.349, -64.374, 145.555],\n",
       "         [ 41.272, -64.21 , 145.945],\n",
       "         [ 40.979, -63.825, 146.729],\n",
       "         [ 40.869, -63.667, 147.291],\n",
       "         [ 40.504, -63.234, 147.662],\n",
       "         [ 40.161, -62.683, 148.061],\n",
       "         [ 39.934, -62.162, 148.707],\n",
       "         [ 39.644, -61.637, 149.047],\n",
       "         [ 39.507, -61.424, 149.137],\n",
       "         [ 39.501, -61.143, 149.484],\n",
       "         [ 39.288, -60.554, 149.742],\n",
       "         [ 39.278, -60.187, 150.155],\n",
       "         [ 38.705, -58.02 , 151.059],\n",
       "         [ 38.499, -57.564, 151.294],\n",
       "         [ 38.399, -57.336, 151.369],\n",
       "         [ 38.246, -57.02 , 151.42 ],\n",
       "         [ 37.247, -55.208, 151.487]])],\n",
       " 'Lengths': [49.68522832633961,\n",
       "  66.84852078270887,\n",
       "  69.46032742297406,\n",
       "  84.94254954156067,\n",
       "  65.79977114058096,\n",
       "  122.25388486810391,\n",
       "  98.92567586023614],\n",
       " 'Area': [154.8059, 260.2948, 331.543, 508.7591, 282.0847, 949.7754, 634.8818],\n",
       " 'tr': [<trimesh.Trimesh(vertices.shape=(70, 3), faces.shape=(70, 3))>,\n",
       "  <trimesh.Trimesh(vertices.shape=(111, 3), faces.shape=(111, 3))>,\n",
       "  <trimesh.Trimesh(vertices.shape=(87, 3), faces.shape=(87, 3))>,\n",
       "  <trimesh.Trimesh(vertices.shape=(98, 3), faces.shape=(98, 3))>,\n",
       "  <trimesh.Trimesh(vertices.shape=(96, 3), faces.shape=(96, 3))>,\n",
       "  <trimesh.Trimesh(vertices.shape=(163, 3), faces.shape=(163, 3))>,\n",
       "  <trimesh.Trimesh(vertices.shape=(144, 3), faces.shape=(144, 3))>]}"
      ]
     },
     "execution_count": 27,
     "metadata": {},
     "output_type": "execute_result"
    }
   ],
   "source": [
    "openep.draw_routines.get_anatomical_structures(case, plot=True)"
   ]
  },
  {
   "cell_type": "markdown",
   "metadata": {},
   "source": [
    "## Get the free boundaries using PyVista\n",
    "Doesn't currently work!!"
   ]
  },
  {
   "cell_type": "code",
   "execution_count": null,
   "metadata": {},
   "outputs": [],
   "source": [
    "tm_mesh.outline()"
   ]
  },
  {
   "cell_type": "code",
   "execution_count": 212,
   "metadata": {},
   "outputs": [],
   "source": [
    "# Extract the edges at the boundaries\n",
    "edges = mesh.extract_feature_edges(\n",
    "    feature_angle=0,\n",
    "    boundary_edges=True,\n",
    "    manifold_edges=False,\n",
    "    feature_edges=False,\n",
    "    non_manifold_edges=False\n",
    ")\n",
    "\n",
    "# Find all connected components\n",
    "conn = edges.connectivity(largest=False)\n",
    "\n",
    "# Plot the points at each boundary\n",
    "for region in np.unique(conn['RegionId']):\n",
    "    \n",
    "    region_points = conn.points[conn['RegionId']==region]\n",
    "        \n",
    "    plotter = pyvista.Plotter(off_screen=True)\n",
    "    plotter.set_background('white')\n",
    "    plotter.add_points(region_points, color='black')\n",
    "    plotter.screenshot(f'region{region}.png')\n",
    "    plotter.close()"
   ]
  },
  {
   "cell_type": "code",
   "execution_count": 218,
   "metadata": {},
   "outputs": [
    {
     "data": {
      "text/html": [
       "\n",
       "<table>\n",
       "<tr><th>PolyData</th><th>Information</th></tr>\n",
       "<tr><td>N Cells</td><td>762</td></tr>\n",
       "<tr><td>N Points</td><td>762</td></tr>\n",
       "<tr><td>X Bounds</td><td>-6.555e+01, 4.135e+01</td></tr>\n",
       "<tr><td>Y Bounds</td><td>-1.078e+02, -4.681e+01</td></tr>\n",
       "<tr><td>Z Bounds</td><td>1.006e+02, 1.634e+02</td></tr>\n",
       "<tr><td>N Arrays</td><td>0</td></tr>\n",
       "</table>\n",
       "\n"
      ],
      "text/plain": [
       "PolyData (0x7fb0309cd4c0)\n",
       "  N Cells:\t762\n",
       "  N Points:\t762\n",
       "  X Bounds:\t-6.555e+01, 4.135e+01\n",
       "  Y Bounds:\t-1.078e+02, -4.681e+01\n",
       "  Z Bounds:\t1.006e+02, 1.634e+02\n",
       "  N Arrays:\t0"
      ]
     },
     "execution_count": 218,
     "metadata": {},
     "output_type": "execute_result"
    }
   ],
   "source": [
    "edges"
   ]
  },
  {
   "cell_type": "markdown",
   "metadata": {},
   "source": [
    "# 3. Remove get_mesh and enforce all mesh functions are passed a mesh, not a Case object"
   ]
  },
  {
   "cell_type": "code",
   "execution_count": 4,
   "metadata": {},
   "outputs": [],
   "source": [
    "filename = \"/Users/paul/github/openep-py/examples/data/new_dataset_2.mat\""
   ]
  },
  {
   "cell_type": "code",
   "execution_count": 5,
   "metadata": {},
   "outputs": [],
   "source": [
    "case = openep.io.load_case(filename)"
   ]
  },
  {
   "cell_type": "code",
   "execution_count": 6,
   "metadata": {},
   "outputs": [],
   "source": [
    "mesh = case.create_mesh(\n",
    "    vertex_norms=False,\n",
    "    recenter=False,\n",
    "    back_faces=False\n",
    ")"
   ]
  },
  {
   "cell_type": "markdown",
   "metadata": {},
   "source": [
    "## Make sure repair works"
   ]
  },
  {
   "cell_type": "code",
   "execution_count": 25,
   "metadata": {},
   "outputs": [],
   "source": [
    "import pymeshfix"
   ]
  },
  {
   "cell_type": "code",
   "execution_count": 27,
   "metadata": {},
   "outputs": [
    {
     "name": "stdout",
     "output_type": "stream",
     "text": [
      "93\n",
      "95\n",
      "108\n",
      "160\n",
      "67\n",
      "141\n",
      "84\n"
     ]
    },
    {
     "data": {
      "text/html": [
       "\n",
       "<table>\n",
       "<tr><th>PolyData</th><th>Information</th></tr>\n",
       "<tr><td>N Cells</td><td>24782</td></tr>\n",
       "<tr><td>N Points</td><td>12393</td></tr>\n",
       "<tr><td>X Bounds</td><td>-6.555e+01, 4.150e+01</td></tr>\n",
       "<tr><td>Y Bounds</td><td>-1.222e+02, -4.681e+01</td></tr>\n",
       "<tr><td>Z Bounds</td><td>1.006e+02, 1.655e+02</td></tr>\n",
       "<tr><td>N Arrays</td><td>0</td></tr>\n",
       "</table>\n",
       "\n"
      ],
      "text/plain": [
       "PolyData (0x7fd8d84afac0)\n",
       "  N Cells:\t24782\n",
       "  N Points:\t12393\n",
       "  X Bounds:\t-6.555e+01, 4.150e+01\n",
       "  Y Bounds:\t-1.222e+02, -4.681e+01\n",
       "  Z Bounds:\t1.006e+02, 1.655e+02\n",
       "  N Arrays:\t0"
      ]
     },
     "execution_count": 27,
     "metadata": {},
     "output_type": "execute_result"
    }
   ],
   "source": [
    "    mf = pymeshfix.MeshFix(mesh)\n",
    "    mf.repair()\n",
    "    mf.mesh"
   ]
  },
  {
   "cell_type": "markdown",
   "metadata": {},
   "source": [
    "## create graph from pyvista"
   ]
  },
  {
   "cell_type": "code",
   "execution_count": 14,
   "metadata": {},
   "outputs": [
    {
     "data": {
      "text/plain": [
       "array([    3,  5343,  7474, ..., 14380,  6871, 14364])"
      ]
     },
     "execution_count": 14,
     "metadata": {},
     "output_type": "execute_result"
    }
   ],
   "source": [
    "mesh.faces"
   ]
  },
  {
   "cell_type": "code",
   "execution_count": 21,
   "metadata": {},
   "outputs": [
    {
     "data": {
      "text/html": [
       "<table><tr><th>Header</th><th>Data Arrays</th></tr><tr><td>\n",
       "<table>\n",
       "<tr><th>PolyData</th><th>Information</th></tr>\n",
       "<tr><td>N Cells</td><td>1</td></tr>\n",
       "<tr><td>N Points</td><td>2</td></tr>\n",
       "<tr><td>X Bounds</td><td>3.695e+00, 4.029e+00</td></tr>\n",
       "<tr><td>Y Bounds</td><td>-8.395e+01, -8.276e+01</td></tr>\n",
       "<tr><td>Z Bounds</td><td>1.638e+02, 1.640e+02</td></tr>\n",
       "<tr><td>N Arrays</td><td>1</td></tr>\n",
       "</table>\n",
       "\n",
       "</td><td>\n",
       "<table>\n",
       "<tr><th>Name</th><th>Field</th><th>Type</th><th>N Comp</th><th>Min</th><th>Max</th></tr>\n",
       "<tr><td><b>vtkOriginalPointIds</b></td><td>Points</td><td>int64</td><td>1</td><td>5.343e+03</td><td>7.474e+03</td></tr>\n",
       "</table>\n",
       "\n",
       "</td></tr> </table>"
      ],
      "text/plain": [
       "PolyData (0x7fd8d84af640)\n",
       "  N Cells:\t1\n",
       "  N Points:\t2\n",
       "  X Bounds:\t3.695e+00, 4.029e+00\n",
       "  Y Bounds:\t-8.395e+01, -8.276e+01\n",
       "  Z Bounds:\t1.638e+02, 1.640e+02\n",
       "  N Arrays:\t1"
      ]
     },
     "execution_count": 21,
     "metadata": {},
     "output_type": "execute_result"
    }
   ],
   "source": [
    "# This fails if there is no path between the two vertices\n",
    "mesh.geodesic(start_vertex=5343, end_vertex=7474, keep_order=True, inplace=False)"
   ]
  },
  {
   "cell_type": "code",
   "execution_count": 17,
   "metadata": {},
   "outputs": [
    {
     "ename": "ValueError",
     "evalue": "Number of scalars (1) must match either the number of points (0) or the number of cells (0).",
     "output_type": "error",
     "traceback": [
      "\u001b[0;31m---------------------------------------------------------------------------\u001b[0m",
      "\u001b[0;31mValueError\u001b[0m                                Traceback (most recent call last)",
      "\u001b[0;32m/var/folders/3x/026zvn0n35v9cg_b27xv40vm0000gn/T/ipykernel_85394/630801688.py\u001b[0m in \u001b[0;36m<module>\u001b[0;34m\u001b[0m\n\u001b[0;32m----> 1\u001b[0;31m \u001b[0mmesh\u001b[0m\u001b[0;34m.\u001b[0m\u001b[0mgeodesic\u001b[0m\u001b[0;34m(\u001b[0m\u001b[0mstart_vertex\u001b[0m\u001b[0;34m=\u001b[0m\u001b[0;36m0\u001b[0m\u001b[0;34m,\u001b[0m \u001b[0mend_vertex\u001b[0m\u001b[0;34m=\u001b[0m\u001b[0;36m7474\u001b[0m\u001b[0;34m,\u001b[0m \u001b[0mkeep_order\u001b[0m\u001b[0;34m=\u001b[0m\u001b[0;32mTrue\u001b[0m\u001b[0;34m,\u001b[0m \u001b[0minplace\u001b[0m\u001b[0;34m=\u001b[0m\u001b[0;32mFalse\u001b[0m\u001b[0;34m)\u001b[0m\u001b[0;34m\u001b[0m\u001b[0;34m\u001b[0m\u001b[0m\n\u001b[0m",
      "\u001b[0;32m/usr/local/Caskroom/miniconda/base/envs/openep/lib/python3.8/site-packages/pyvista/core/filters/poly_data.py\u001b[0m in \u001b[0;36mgeodesic\u001b[0;34m(self, start_vertex, end_vertex, inplace, keep_order, progress_bar)\u001b[0m\n\u001b[1;32m   1636\u001b[0m \u001b[0;34m\u001b[0m\u001b[0m\n\u001b[1;32m   1637\u001b[0m         \u001b[0moutput\u001b[0m \u001b[0;34m=\u001b[0m \u001b[0m_get_output\u001b[0m\u001b[0;34m(\u001b[0m\u001b[0mdijkstra\u001b[0m\u001b[0;34m)\u001b[0m\u001b[0;34m\u001b[0m\u001b[0;34m\u001b[0m\u001b[0m\n\u001b[0;32m-> 1638\u001b[0;31m         \u001b[0moutput\u001b[0m\u001b[0;34m[\u001b[0m\u001b[0;34m\"vtkOriginalPointIds\"\u001b[0m\u001b[0;34m]\u001b[0m \u001b[0;34m=\u001b[0m \u001b[0moriginal_ids\u001b[0m\u001b[0;34m\u001b[0m\u001b[0;34m\u001b[0m\u001b[0m\n\u001b[0m\u001b[1;32m   1639\u001b[0m \u001b[0;34m\u001b[0m\u001b[0m\n\u001b[1;32m   1640\u001b[0m         \u001b[0;31m# Do not copy textures from input\u001b[0m\u001b[0;34m\u001b[0m\u001b[0;34m\u001b[0m\u001b[0;34m\u001b[0m\u001b[0m\n",
      "\u001b[0;32m/usr/local/Caskroom/miniconda/base/envs/openep/lib/python3.8/site-packages/pyvista/core/dataset.py\u001b[0m in \u001b[0;36m__setitem__\u001b[0;34m(self, name, scalars)\u001b[0m\n\u001b[1;32m   1656\u001b[0m             \u001b[0;31m# Field data must be set explicitly as it could be a point of\u001b[0m\u001b[0;34m\u001b[0m\u001b[0;34m\u001b[0m\u001b[0;34m\u001b[0m\u001b[0m\n\u001b[1;32m   1657\u001b[0m             \u001b[0;31m# confusion for new users\u001b[0m\u001b[0;34m\u001b[0m\u001b[0;34m\u001b[0m\u001b[0;34m\u001b[0m\u001b[0m\n\u001b[0;32m-> 1658\u001b[0;31m             \u001b[0mraise_not_matching\u001b[0m\u001b[0;34m(\u001b[0m\u001b[0mscalars\u001b[0m\u001b[0;34m,\u001b[0m \u001b[0mself\u001b[0m\u001b[0;34m)\u001b[0m\u001b[0;34m\u001b[0m\u001b[0;34m\u001b[0m\u001b[0m\n\u001b[0m\u001b[1;32m   1659\u001b[0m         \u001b[0;32mreturn\u001b[0m\u001b[0;34m\u001b[0m\u001b[0;34m\u001b[0m\u001b[0m\n\u001b[1;32m   1660\u001b[0m \u001b[0;34m\u001b[0m\u001b[0m\n",
      "\u001b[0;32m/usr/local/Caskroom/miniconda/base/envs/openep/lib/python3.8/site-packages/pyvista/utilities/helpers.py\u001b[0m in \u001b[0;36mraise_not_matching\u001b[0;34m(scalars, dataset)\u001b[0m\n\u001b[1;32m   1065\u001b[0m     \u001b[0;32mif\u001b[0m \u001b[0misinstance\u001b[0m\u001b[0;34m(\u001b[0m\u001b[0mdataset\u001b[0m\u001b[0;34m,\u001b[0m \u001b[0m_vtk\u001b[0m\u001b[0;34m.\u001b[0m\u001b[0mvtkTable\u001b[0m\u001b[0;34m)\u001b[0m\u001b[0;34m:\u001b[0m\u001b[0;34m\u001b[0m\u001b[0;34m\u001b[0m\u001b[0m\n\u001b[1;32m   1066\u001b[0m         \u001b[0;32mraise\u001b[0m \u001b[0mValueError\u001b[0m\u001b[0;34m(\u001b[0m\u001b[0;34mf'Number of scalars ({scalars.size}) must match number of rows ({dataset.n_rows}).'\u001b[0m\u001b[0;34m)\u001b[0m\u001b[0;34m\u001b[0m\u001b[0;34m\u001b[0m\u001b[0m\n\u001b[0;32m-> 1067\u001b[0;31m     raise ValueError(f'Number of scalars ({scalars.size}) '\n\u001b[0m\u001b[1;32m   1068\u001b[0m                      \u001b[0;34mf'must match either the number of points ({dataset.n_points}) '\u001b[0m\u001b[0;34m\u001b[0m\u001b[0;34m\u001b[0m\u001b[0m\n\u001b[1;32m   1069\u001b[0m                      f'or the number of cells ({dataset.n_cells}).')\n",
      "\u001b[0;31mValueError\u001b[0m: Number of scalars (1) must match either the number of points (0) or the number of cells (0)."
     ]
    }
   ],
   "source": [
    "mesh.geodesic(start_vertex=0, end_vertex=7474, keep_order=True, inplace=False)"
   ]
  },
  {
   "cell_type": "code",
   "execution_count": 93,
   "metadata": {},
   "outputs": [],
   "source": [
    "import networkx as nx"
   ]
  },
  {
   "cell_type": "code",
   "execution_count": 304,
   "metadata": {},
   "outputs": [],
   "source": [
    "def create_edge_graph(mesh: pyvista.PolyData) -> nx.Graph:\n",
    "    \"\"\"\n",
    "    Create a Graph object of the mesh's edges with the length stored as property 'length'.\n",
    "    \"\"\"\n",
    "    \n",
    "    # Avoid creating the graph unnecessarily\n",
    "    if hasattr(mesh, \"_graph\"):\n",
    "        return mesh._graph\n",
    "    \n",
    "    faces = mesh.faces.reshape(-1, 4)[:, 1:]\n",
    "\n",
    "    edges = np.vstack(\n",
    "        [\n",
    "            faces[:, :2],\n",
    "            faces[:, 1:3],\n",
    "            faces[:, ::2],\n",
    "        ]\n",
    "    )\n",
    "    edges.sort()  # ensure the lower index is in the first column\n",
    "    unique_edges = np.unique(edges, axis=0)\n",
    "    \n",
    "    edge_lengths = np.linalg.norm(mesh.points[unique_edges[:, 0]] - mesh.points[unique_edges[:, 1]], axis=1)\n",
    "\n",
    "    graph = nx.Graph()\n",
    "    graph.add_nodes_from(np.arange(mesh.n_points))  # ensure all nodes are present\n",
    "    for edge, length in zip(unique_edges, edge_lengths):\n",
    "        graph.add_edge(*edge, length=length)\n",
    "        \n",
    "    mesh._graph = graph\n",
    "\n",
    "    return graph\n"
   ]
  },
  {
   "cell_type": "code",
   "execution_count": 23,
   "metadata": {},
   "outputs": [],
   "source": [
    "graph = openep.mesh_routines.create_edge_graph(mesh)"
   ]
  },
  {
   "cell_type": "markdown",
   "metadata": {},
   "source": [
    "## Make sure triangles are selected correctly"
   ]
  },
  {
   "cell_type": "markdown",
   "metadata": {},
   "source": [
    "### Check the areas using trimesh"
   ]
  },
  {
   "cell_type": "code",
   "execution_count": 67,
   "metadata": {},
   "outputs": [],
   "source": [
    "sphere = trimesh.creation.icosphere()"
   ]
  },
  {
   "cell_type": "code",
   "execution_count": 59,
   "metadata": {},
   "outputs": [
    {
     "data": {
      "text/plain": [
       "array([ True,  True,  True, ..., False, False, False])"
      ]
     },
     "execution_count": 59,
     "metadata": {},
     "output_type": "execute_result"
    }
   ],
   "source": [
    "sphere.triangles[..., 0].mean(axis=1) <= 0"
   ]
  },
  {
   "cell_type": "code",
   "execution_count": 68,
   "metadata": {},
   "outputs": [
    {
     "data": {
      "text/plain": [
       "array([0.00908284, 0.00911426, 0.00911426, ..., 0.01158177, 0.01158177,\n",
       "       0.01173841])"
      ]
     },
     "execution_count": 68,
     "metadata": {},
     "output_type": "execute_result"
    }
   ],
   "source": [
    "sphere.area_faces"
   ]
  },
  {
   "cell_type": "code",
   "execution_count": 53,
   "metadata": {},
   "outputs": [
    {
     "data": {
      "text/plain": [
       "array([[[-0.52573111,  0.85065081,  0.        ],\n",
       "        [-0.61564202,  0.78384304,  0.08108629],\n",
       "        [-0.48444164,  0.86492934,  0.13120038]],\n",
       "\n",
       "       [[-0.61564202,  0.78384304,  0.08108629],\n",
       "        [-0.69378048,  0.70204644,  0.16062204],\n",
       "        [-0.57125166,  0.79264923,  0.21302287]],\n",
       "\n",
       "       [[-0.48444164,  0.86492934,  0.13120038],\n",
       "        [-0.57125166,  0.79264923,  0.21302287],\n",
       "        [-0.43388856,  0.86266848,  0.25989191]],\n",
       "\n",
       "       ...,\n",
       "\n",
       "       [[ 0.91298249,  0.39960705, -0.08232358],\n",
       "        [ 0.85065081,  0.52573111,  0.        ],\n",
       "        [ 0.91298249,  0.39960705,  0.08232358]],\n",
       "\n",
       "       [[ 0.96386126,  0.2664047 ,  0.        ],\n",
       "        [ 0.91298249,  0.39960705,  0.08232358],\n",
       "        [ 0.95105652,  0.26286556,  0.16245985]],\n",
       "\n",
       "       [[ 0.91298249,  0.39960705, -0.08232358],\n",
       "        [ 0.91298249,  0.39960705,  0.08232358],\n",
       "        [ 0.96386126,  0.2664047 ,  0.        ]]])"
      ]
     },
     "execution_count": 53,
     "metadata": {},
     "output_type": "execute_result"
    }
   ],
   "source": [
    "sphere.triangles"
   ]
  },
  {
   "cell_type": "code",
   "execution_count": 55,
   "metadata": {},
   "outputs": [
    {
     "data": {
      "text/plain": [
       "TrackedArray(True)"
      ]
     },
     "execution_count": 55,
     "metadata": {},
     "output_type": "execute_result"
    }
   ],
   "source": [
    "(sphere.vertices[sphere.faces] == sphere.triangles).all()"
   ]
  },
  {
   "cell_type": "markdown",
   "metadata": {},
   "source": [
    "### Now reproduce with pyvista"
   ]
  },
  {
   "cell_type": "code",
   "execution_count": 62,
   "metadata": {},
   "outputs": [],
   "source": [
    "sphere = pyvista.wrap(sphere)\n",
    "faces = sphere.faces.reshape(-1, 4)[:, 1:]\n",
    "triangles = sphere.points[faces]"
   ]
  },
  {
   "cell_type": "code",
   "execution_count": 66,
   "metadata": {},
   "outputs": [
    {
     "data": {
      "text/plain": [
       "array([0.00908284, 0.00911426, 0.00911426, ..., 0.01158177, 0.01158177,\n",
       "       0.01173841])"
      ]
     },
     "execution_count": 66,
     "metadata": {},
     "output_type": "execute_result"
    }
   ],
   "source": [
    "areas = sphere.compute_cell_sizes(\n",
    "    length=False,\n",
    "    area=True,\n",
    "    volume=False,\n",
    ")['Area']\n",
    "areas"
   ]
  },
  {
   "cell_type": "markdown",
   "metadata": {},
   "source": [
    "# 4. Remove usage of TriMesh in repair_mesh"
   ]
  },
  {
   "cell_type": "markdown",
   "metadata": {},
   "source": [
    "# 5. Remove create_edge_graph"
   ]
  },
  {
   "cell_type": "markdown",
   "metadata": {},
   "source": [
    "# 6. Replace calculate_vertex_path with PyVista's built-in method geodesic"
   ]
  },
  {
   "cell_type": "markdown",
   "metadata": {},
   "source": [
    "# 7. Replace calculate_vertex_distance with PyVista's built-in geodesic.GetLength"
   ]
  },
  {
   "cell_type": "markdown",
   "metadata": {},
   "source": [
    "# 8. Replcace calculate_per_triangle_field with PyVista"
   ]
  },
  {
   "cell_type": "markdown",
   "metadata": {},
   "source": [
    "# 9. Replace calculate_mesh_volume with PyVista"
   ]
  },
  {
   "cell_type": "markdown",
   "metadata": {},
   "source": [
    "# 10. Replace calculate_field_area with PyVista"
   ]
  },
  {
   "cell_type": "code",
   "execution_count": 67,
   "metadata": {},
   "outputs": [
    {
     "data": {
      "text/plain": [
       "array([0.63103974, 1.56196711, 0.60041778, ..., 0.71467247, 0.15796176,\n",
       "       0.11111188])"
      ]
     },
     "execution_count": 67,
     "metadata": {},
     "output_type": "execute_result"
    }
   ],
   "source": [
    "pv_mesh.compute_cell_sizes()['Area']"
   ]
  },
  {
   "cell_type": "code",
   "execution_count": 68,
   "metadata": {},
   "outputs": [
    {
     "data": {
      "text/plain": [
       "array([0.63103974, 1.56196711, 0.60041778, ..., 0.71467247, 0.15796176,\n",
       "       0.11111188])"
      ]
     },
     "execution_count": 68,
     "metadata": {},
     "output_type": "execute_result"
    }
   ],
   "source": [
    "tm_mesh.area_faces"
   ]
  },
  {
   "cell_type": "code",
   "execution_count": null,
   "metadata": {},
   "outputs": [],
   "source": [
    "# Use this in test_mesh_routines.test_calculate_field_area to determine xbelow\n",
    "triangles = sphere.points[sphere.faces.reshape(-1, 4)[:, 1:]]"
   ]
  },
  {
   "cell_type": "markdown",
   "metadata": {},
   "source": [
    "# 11. Replace calculate_point_distance_max with scipy.spatial.distance.cdist"
   ]
  },
  {
   "cell_type": "code",
   "execution_count": 8,
   "metadata": {},
   "outputs": [],
   "source": [
    "import trimesh\n",
    "tm_sphere = trimesh.creation.icosphere()"
   ]
  },
  {
   "cell_type": "code",
   "execution_count": 11,
   "metadata": {},
   "outputs": [
    {
     "data": {
      "text/plain": [
       "TrackedArray([ 0.85065081,  0.85065081, -0.85065081, -0.85065081,\n",
       "              -0.52573111,  0.52573111, -0.52573111,  0.52573111,\n",
       "               0.        ,  0.        ,  0.        ,  0.        ,\n",
       "               1.        , -1.        , -0.80901699, -0.80901699,\n",
       "               0.80901699,  0.80901699,  0.        , -0.80901699,\n",
       "              -0.80901699,  0.80901699,  0.80901699,  0.        ,\n",
       "               0.5       , -0.5       , -0.30901699,  0.30901699,\n",
       "               0.5       , -0.5       , -0.30901699,  0.30901699,\n",
       "               0.        ,  0.5       , -0.5       , -0.30901699,\n",
       "               0.30901699,  0.5       , -0.5       , -0.30901699,\n",
       "               0.30901699,  0.        ,  0.96193836,  0.96193836,\n",
       "              -0.96193836, -0.96193836, -0.86266848, -0.69378048,\n",
       "              -0.95105652, -0.86266848, -0.69378048, -0.95105652,\n",
       "              -0.85065081,  0.86266848,  0.69378048,  0.95105652,\n",
       "               0.86266848,  0.69378048,  0.95105652,  0.85065081,\n",
       "              -0.27326653,  0.27326653, -0.86266848, -0.69378048,\n",
       "              -0.95105652, -0.86266848, -0.69378048, -0.95105652,\n",
       "              -0.85065081,  0.86266848,  0.69378048,  0.95105652,\n",
       "               0.86266848,  0.69378048,  0.95105652,  0.85065081,\n",
       "              -0.27326653,  0.27326653,  0.70204644,  0.25989191,\n",
       "               0.68819096, -0.70204644, -0.25989191, -0.68819096,\n",
       "              -0.43388856, -0.16062204, -0.58778525, -0.16245985,\n",
       "              -0.4253254 ,  0.43388856,  0.16062204,  0.58778525,\n",
       "               0.16245985,  0.4253254 ,  0.        ,  0.70204644,\n",
       "               0.25989191,  0.68819096,  0.52573111, -0.70204644,\n",
       "              -0.25989191, -0.68819096, -0.52573111, -0.43388856,\n",
       "              -0.16062204, -0.58778525, -0.16245985, -0.4253254 ,\n",
       "               0.43388856,  0.16062204,  0.58778525,  0.16245985,\n",
       "               0.4253254 ,  0.        ,  0.        ,  0.        ,\n",
       "               0.26286556, -0.26286556,  0.26286556, -0.26286556,\n",
       "               0.70204644,  0.25989191,  0.68819096, -0.70204644,\n",
       "              -0.25989191, -0.68819096, -0.43388856, -0.16062204,\n",
       "              -0.58778525, -0.16245985, -0.4253254 ,  0.43388856,\n",
       "               0.16062204,  0.58778525,  0.16245985,  0.4253254 ,\n",
       "               0.        ,  0.70204644,  0.25989191,  0.68819096,\n",
       "               0.52573111, -0.70204644, -0.25989191, -0.68819096,\n",
       "              -0.52573111, -0.43388856, -0.16062204, -0.58778525,\n",
       "              -0.16245985, -0.4253254 ,  0.43388856,  0.16062204,\n",
       "               0.58778525,  0.16245985,  0.4253254 ,  0.        ,\n",
       "               0.        ,  0.        ,  0.26286556, -0.26286556,\n",
       "               0.26286556, -0.26286556,  0.91504342,  0.99043888,\n",
       "               0.91504342,  0.99043888, -0.91504342, -0.99043888,\n",
       "              -0.91504342, -0.99043888, -0.86492934, -0.84391147,\n",
       "              -0.9243046 , -0.61564202, -0.7586523 , -0.98768834,\n",
       "              -0.89100652, -0.9663926 , -0.91624418, -0.86492934,\n",
       "              -0.84391147, -0.9243046 , -0.61564202, -0.7586523 ,\n",
       "              -0.70290703, -0.98768834, -0.89100652, -0.9663926 ,\n",
       "              -0.96386126, -0.91624418, -0.84017789, -0.84017789,\n",
       "              -0.78020437, -0.91298249, -0.78020437, -0.91298249,\n",
       "               0.86492934,  0.84391147,  0.9243046 ,  0.61564202,\n",
       "               0.7586523 ,  0.98768834,  0.89100652,  0.9663926 ,\n",
       "               0.91624418,  0.86492934,  0.84391147,  0.9243046 ,\n",
       "               0.61564202,  0.7586523 ,  0.70290703,  0.98768834,\n",
       "               0.89100652,  0.9663926 ,  0.96386126,  0.91624418,\n",
       "               0.84017789,  0.84017789,  0.78020437,  0.91298249,\n",
       "               0.78020437,  0.91298249, -0.40335535, -0.13795224,\n",
       "               0.40335535,  0.13795224, -0.86492934, -0.84391147,\n",
       "              -0.9243046 , -0.61564202, -0.7586523 , -0.98768834,\n",
       "              -0.89100652, -0.9663926 , -0.91624418, -0.86492934,\n",
       "              -0.84391147, -0.9243046 , -0.61564202, -0.7586523 ,\n",
       "              -0.70290703, -0.98768834, -0.89100652, -0.9663926 ,\n",
       "              -0.96386126, -0.91624418, -0.84017789, -0.84017789,\n",
       "              -0.78020437, -0.91298249, -0.78020437, -0.91298249,\n",
       "               0.86492934,  0.84391147,  0.9243046 ,  0.61564202,\n",
       "               0.7586523 ,  0.98768834,  0.89100652,  0.9663926 ,\n",
       "               0.91624418,  0.86492934,  0.84391147,  0.9243046 ,\n",
       "               0.61564202,  0.7586523 ,  0.70290703,  0.98768834,\n",
       "               0.89100652,  0.9663926 ,  0.96386126,  0.91624418,\n",
       "               0.84017789,  0.84017789,  0.78020437,  0.91298249,\n",
       "               0.78020437,  0.91298249, -0.40335535, -0.13795224,\n",
       "               0.40335535,  0.13795224,  0.78384304,  0.60682515,\n",
       "               0.79264923,  0.13120038,  0.38361373,  0.75793542,\n",
       "               0.60150096,  0.7834517 ,  0.70230985, -0.78384304,\n",
       "              -0.60682515, -0.79264923, -0.13120038, -0.38361373,\n",
       "              -0.75793542, -0.60150096, -0.7834517 , -0.70230985,\n",
       "              -0.48444164, -0.37503857, -0.57125166, -0.35822879,\n",
       "              -0.08108629, -0.23708633, -0.21302287, -0.70710678,\n",
       "              -0.4539905 , -0.64741189, -0.64657779, -0.51612162,\n",
       "              -0.08224247, -0.23867693, -0.22011703, -0.30125888,\n",
       "              -0.46842985, -0.37174803, -0.34615301, -0.56425421,\n",
       "              -0.29600459, -0.51337544,  0.48444164,  0.37503857,\n",
       "               0.57125166,  0.35822879,  0.08108629,  0.23708633,\n",
       "               0.21302287,  0.        ,  0.70710678,  0.4539905 ,\n",
       "               0.64741189,  0.64657779,  0.51612162,  0.08224247,\n",
       "               0.23867693,  0.22011703,  0.        ,  0.30125888,\n",
       "               0.46842985,  0.37174803,  0.34615301,  0.56425421,\n",
       "               0.29600459,  0.51337544, -0.15643447,  0.15643447,\n",
       "              -0.08114185, -0.08232358,  0.08114185,  0.08232358,\n",
       "               0.78384304,  0.60682515,  0.79264923,  0.71128173,\n",
       "               0.13120038,  0.38361373,  0.75793542,  0.60150096,\n",
       "               0.7834517 ,  0.70230985,  0.51925849,  0.51925849,\n",
       "               0.62023958,  0.62023958, -0.78384304, -0.60682515,\n",
       "              -0.79264923, -0.71128173, -0.13120038, -0.38361373,\n",
       "              -0.75793542, -0.60150096, -0.7834517 , -0.70230985,\n",
       "              -0.51925849, -0.51925849, -0.62023958, -0.62023958,\n",
       "              -0.48444164, -0.37503857, -0.57125166, -0.35822879,\n",
       "              -0.08108629, -0.23708633, -0.21302287, -0.70710678,\n",
       "              -0.4539905 , -0.64741189, -0.64657779, -0.51612162,\n",
       "              -0.08224247, -0.23867693, -0.22011703, -0.30125888,\n",
       "              -0.46842985, -0.37174803, -0.34615301, -0.56425421,\n",
       "              -0.29600459, -0.51337544,  0.48444164,  0.37503857,\n",
       "               0.57125166,  0.35822879,  0.08108629,  0.23708633,\n",
       "               0.21302287,  0.        ,  0.70710678,  0.4539905 ,\n",
       "               0.64741189,  0.64657779,  0.51612162,  0.08224247,\n",
       "               0.23867693,  0.22011703,  0.        ,  0.30125888,\n",
       "               0.46842985,  0.37174803,  0.34615301,  0.56425421,\n",
       "               0.29600459,  0.51337544, -0.15643447,  0.15643447,\n",
       "              -0.08114185, -0.08232358,  0.08114185,  0.08232358,\n",
       "               0.        ,  0.        ,  0.13165537, -0.13165537,\n",
       "               0.        ,  0.        ,  0.13165537, -0.13165537,\n",
       "               0.38618739,  0.1330711 ,  0.26408275,  0.39960705,\n",
       "               0.13279248, -0.38618739, -0.1330711 , -0.26408275,\n",
       "              -0.39960705, -0.13279248,  0.38618739,  0.1330711 ,\n",
       "               0.26408275,  0.39960705,  0.13279248,  0.2664047 ,\n",
       "              -0.38618739, -0.1330711 , -0.26408275, -0.39960705,\n",
       "              -0.13279248, -0.2664047 ,  0.78384304,  0.60682515,\n",
       "               0.79264923,  0.13120038,  0.38361373,  0.75793542,\n",
       "               0.60150096,  0.7834517 ,  0.70230985, -0.78384304,\n",
       "              -0.60682515, -0.79264923, -0.13120038, -0.38361373,\n",
       "              -0.75793542, -0.60150096, -0.7834517 , -0.70230985,\n",
       "              -0.48444164, -0.37503857, -0.57125166, -0.35822879,\n",
       "              -0.08108629, -0.23708633, -0.21302287, -0.70710678,\n",
       "              -0.4539905 , -0.64741189, -0.64657779, -0.51612162,\n",
       "              -0.08224247, -0.23867693, -0.22011703, -0.30125888,\n",
       "              -0.46842985, -0.37174803, -0.34615301, -0.56425421,\n",
       "              -0.29600459, -0.51337544,  0.48444164,  0.37503857,\n",
       "               0.57125166,  0.35822879,  0.08108629,  0.23708633,\n",
       "               0.21302287,  0.        ,  0.70710678,  0.4539905 ,\n",
       "               0.64741189,  0.64657779,  0.51612162,  0.08224247,\n",
       "               0.23867693,  0.22011703,  0.        ,  0.30125888,\n",
       "               0.46842985,  0.37174803,  0.34615301,  0.56425421,\n",
       "               0.29600459,  0.51337544, -0.15643447,  0.15643447,\n",
       "              -0.08114185, -0.08232358,  0.08114185,  0.08232358,\n",
       "               0.78384304,  0.60682515,  0.79264923,  0.71128173,\n",
       "               0.13120038,  0.38361373,  0.75793542,  0.60150096,\n",
       "               0.7834517 ,  0.70230985,  0.51925849,  0.51925849,\n",
       "               0.62023958,  0.62023958, -0.78384304, -0.60682515,\n",
       "              -0.79264923, -0.71128173, -0.13120038, -0.38361373,\n",
       "              -0.75793542, -0.60150096, -0.7834517 , -0.70230985,\n",
       "              -0.51925849, -0.51925849, -0.62023958, -0.62023958,\n",
       "              -0.48444164, -0.37503857, -0.57125166, -0.35822879,\n",
       "              -0.08108629, -0.23708633, -0.21302287, -0.70710678,\n",
       "              -0.4539905 , -0.64741189, -0.64657779, -0.51612162,\n",
       "              -0.08224247, -0.23867693, -0.22011703, -0.30125888,\n",
       "              -0.46842985, -0.37174803, -0.34615301, -0.56425421,\n",
       "              -0.29600459, -0.51337544,  0.48444164,  0.37503857,\n",
       "               0.57125166,  0.35822879,  0.08108629,  0.23708633,\n",
       "               0.21302287,  0.        ,  0.70710678,  0.4539905 ,\n",
       "               0.64741189,  0.64657779,  0.51612162,  0.08224247,\n",
       "               0.23867693,  0.22011703,  0.        ,  0.30125888,\n",
       "               0.46842985,  0.37174803,  0.34615301,  0.56425421,\n",
       "               0.29600459,  0.51337544, -0.15643447,  0.15643447,\n",
       "              -0.08114185, -0.08232358,  0.08114185,  0.08232358,\n",
       "               0.        ,  0.        ,  0.13165537, -0.13165537,\n",
       "               0.        ,  0.        ,  0.13165537, -0.13165537,\n",
       "               0.38618739,  0.1330711 ,  0.26408275,  0.39960705,\n",
       "               0.13279248, -0.38618739, -0.1330711 , -0.26408275,\n",
       "              -0.39960705, -0.13279248,  0.38618739,  0.1330711 ,\n",
       "               0.26408275,  0.39960705,  0.13279248,  0.2664047 ,\n",
       "              -0.38618739, -0.1330711 , -0.26408275, -0.39960705,\n",
       "              -0.13279248, -0.2664047 ])"
      ]
     },
     "execution_count": 11,
     "metadata": {},
     "output_type": "execute_result"
    }
   ],
   "source": [
    "tm_sphere.vertices[:, 1]"
   ]
  },
  {
   "cell_type": "markdown",
   "metadata": {},
   "source": [
    "# Replace draw_map with pyvista"
   ]
  },
  {
   "cell_type": "code",
   "execution_count": 6,
   "metadata": {},
   "outputs": [],
   "source": [
    "filename = \"/Users/paul/github/openep-py/examples/data/new_dataset_2.mat\""
   ]
  },
  {
   "cell_type": "code",
   "execution_count": 7,
   "metadata": {},
   "outputs": [],
   "source": [
    "case = openep.io.load_case(filename)"
   ]
  },
  {
   "cell_type": "code",
   "execution_count": 8,
   "metadata": {},
   "outputs": [],
   "source": [
    "mesh = case.create_mesh(\n",
    "    vertex_norms=False,\n",
    "    recenter=False,\n",
    "    back_faces=False\n",
    ")"
   ]
  },
  {
   "cell_type": "code",
   "execution_count": 9,
   "metadata": {},
   "outputs": [],
   "source": [
    "tm_mesh = openep.draw_routines._create_trimesh(mesh)"
   ]
  },
  {
   "cell_type": "code",
   "execution_count": 12,
   "metadata": {},
   "outputs": [
    {
     "data": {
      "text/plain": [
       "array([<trimesh.path.entities.Line object at 0x7fe5987ede20>,\n",
       "       <trimesh.path.entities.Line object at 0x7fe5b8316160>,\n",
       "       <trimesh.path.entities.Line object at 0x7fe598842c40>,\n",
       "       <trimesh.path.entities.Line object at 0x7fe598842df0>,\n",
       "       <trimesh.path.entities.Line object at 0x7fe5b863be50>,\n",
       "       <trimesh.path.entities.Line object at 0x7fe5b863b8e0>,\n",
       "       <trimesh.path.entities.Line object at 0x7fe5b863ba90>],\n",
       "      dtype=object)"
      ]
     },
     "execution_count": 12,
     "metadata": {},
     "output_type": "execute_result"
    }
   ],
   "source": [
    "tm_mesh.outline().entities"
   ]
  },
  {
   "cell_type": "markdown",
   "metadata": {},
   "source": [
    "# Create test files"
   ]
  },
  {
   "cell_type": "code",
   "execution_count": 85,
   "metadata": {},
   "outputs": [],
   "source": [
    "def create_cube():\n",
    "    \n",
    "    cube = trimesh.creation.box()\n",
    "    \n",
    "    points = cube.vertices\n",
    "    triangles = cube.faces\n",
    "\n",
    "    num_points_per_face = np.full(shape=(len(triangles)), fill_value=3, dtype=int)  # all faces have three vertices\n",
    "    faces = np.concatenate([num_points_per_face[:, np.newaxis], triangles], axis=1)\n",
    "    \n",
    "    return pyvista.PolyData(points, faces)"
   ]
  },
  {
   "cell_type": "code",
   "execution_count": 86,
   "metadata": {},
   "outputs": [],
   "source": [
    "def create_sphere():\n",
    "    \n",
    "    sphere = trimesh.creation.icosphere()\n",
    "    \n",
    "    points = sphere.vertices\n",
    "    triangles = sphere.faces\n",
    "\n",
    "    num_points_per_face = np.full(shape=(len(triangles)), fill_value=3, dtype=int)  # all faces have three vertices\n",
    "    faces = np.concatenate([num_points_per_face[:, np.newaxis], triangles], axis=1)\n",
    "    \n",
    "    return pyvista.PolyData(points, faces)\n",
    "        "
   ]
  },
  {
   "cell_type": "code",
   "execution_count": 87,
   "metadata": {},
   "outputs": [],
   "source": [
    "def create_broken_sphere():\n",
    "    \n",
    "    sphere = trimesh.creation.icosphere()\n",
    "    broken_sphere = trimesh.Trimesh(sphere.vertices, sphere.faces[30:])\n",
    "        \n",
    "    points = broken_sphere.vertices\n",
    "    triangles = broken_sphere.faces\n",
    "\n",
    "    num_points_per_face = np.full(shape=(len(triangles)), fill_value=3, dtype=int)  # all faces have three vertices\n",
    "    faces = np.concatenate([num_points_per_face[:, np.newaxis], triangles], axis=1)\n",
    "    \n",
    "    return pyvista.PolyData(points, faces)\n"
   ]
  },
  {
   "cell_type": "code",
   "execution_count": 101,
   "metadata": {},
   "outputs": [],
   "source": [
    "cube = create_cube()\n",
    "cube.save(\"../openep/_simple_meshes/PLY/cube.ply\")\n"
   ]
  },
  {
   "cell_type": "code",
   "execution_count": 102,
   "metadata": {},
   "outputs": [],
   "source": [
    "sphere = create_sphere()\n",
    "sphere.save(\"../openep/_simple_meshes/PLY/sphere.ply\")\n"
   ]
  },
  {
   "cell_type": "code",
   "execution_count": 103,
   "metadata": {},
   "outputs": [],
   "source": [
    "broken_sphere = create_broken_sphere()\n",
    "broken_sphere.save(\"../openep/_simple_meshes/PLY/broken_sphere.ply\")"
   ]
  },
  {
   "cell_type": "code",
   "execution_count": 6,
   "metadata": {},
   "outputs": [],
   "source": [
    "from openep._simple_meshes.simple_meshes import CUBE, SPHERE, BROKEN_SPHERE"
   ]
  },
  {
   "cell_type": "code",
   "execution_count": 7,
   "metadata": {},
   "outputs": [],
   "source": [
    "cube = pyvista.read(CUBE)\n",
    "sphere = pyvista.read(SPHERE)\n",
    "broken_sphere = pyvista.read(BROKEN_SPHERE)\n"
   ]
  },
  {
   "cell_type": "code",
   "execution_count": null,
   "metadata": {},
   "outputs": [],
   "source": []
  }
 ],
 "metadata": {
  "interpreter": {
   "hash": "b70c77d1f434cb13d28bc66077f6640bc235ed0fafb44415eb104636c7f16159"
  },
  "kernelspec": {
   "display_name": "Python 3.8.10 64-bit ('openep': conda)",
   "name": "python3"
  },
  "language_info": {
   "codemirror_mode": {
    "name": "ipython",
    "version": 3
   },
   "file_extension": ".py",
   "mimetype": "text/x-python",
   "name": "python",
   "nbconvert_exporter": "python",
   "pygments_lexer": "ipython3",
   "version": "3.8.10"
  },
  "orig_nbformat": 4
 },
 "nbformat": 4,
 "nbformat_minor": 2
}
